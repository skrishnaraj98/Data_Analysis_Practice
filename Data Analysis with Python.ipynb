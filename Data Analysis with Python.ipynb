{
 "cells": [
  {
   "cell_type": "markdown",
   "metadata": {},
   "source": [
    "### NUMPY"
   ]
  },
  {
   "cell_type": "code",
   "execution_count": 1,
   "metadata": {},
   "outputs": [
    {
     "name": "stdout",
     "output_type": "stream",
     "text": [
      "Collecting numpy\n",
      "  Downloading numpy-2.1.0-cp312-cp312-win_amd64.whl.metadata (59 kB)\n",
      "Downloading numpy-2.1.0-cp312-cp312-win_amd64.whl (12.6 MB)\n",
      "   ---------------------------------------- 0.0/12.6 MB ? eta -:--:--\n",
      "    --------------------------------------- 0.3/12.6 MB ? eta -:--:--\n",
      "   - -------------------------------------- 0.5/12.6 MB 1.3 MB/s eta 0:00:10\n",
      "   -- ------------------------------------- 0.8/12.6 MB 1.2 MB/s eta 0:00:10\n",
      "   ---- ----------------------------------- 1.3/12.6 MB 1.6 MB/s eta 0:00:08\n",
      "   ----- ---------------------------------- 1.6/12.6 MB 1.6 MB/s eta 0:00:07\n",
      "   ------ --------------------------------- 2.1/12.6 MB 1.7 MB/s eta 0:00:07\n",
      "   -------- ------------------------------- 2.6/12.6 MB 1.9 MB/s eta 0:00:06\n",
      "   ---------- ----------------------------- 3.1/12.6 MB 2.0 MB/s eta 0:00:05\n",
      "   ---------- ----------------------------- 3.1/12.6 MB 2.0 MB/s eta 0:00:05\n",
      "   ----------- ---------------------------- 3.7/12.6 MB 1.8 MB/s eta 0:00:06\n",
      "   ----------- ---------------------------- 3.7/12.6 MB 1.8 MB/s eta 0:00:06\n",
      "   ------------- -------------------------- 4.2/12.6 MB 1.7 MB/s eta 0:00:05\n",
      "   -------------- ------------------------- 4.5/12.6 MB 1.7 MB/s eta 0:00:05\n",
      "   -------------- ------------------------- 4.5/12.6 MB 1.7 MB/s eta 0:00:05\n",
      "   --------------- ------------------------ 5.0/12.6 MB 1.6 MB/s eta 0:00:05\n",
      "   ----------------- ---------------------- 5.5/12.6 MB 1.7 MB/s eta 0:00:05\n",
      "   ------------------ --------------------- 5.8/12.6 MB 1.7 MB/s eta 0:00:05\n",
      "   -------------------- ------------------- 6.3/12.6 MB 1.7 MB/s eta 0:00:04\n",
      "   ---------------------- ----------------- 7.1/12.6 MB 1.8 MB/s eta 0:00:04\n",
      "   ------------------------- -------------- 7.9/12.6 MB 1.9 MB/s eta 0:00:03\n",
      "   ----------------------------- ---------- 9.2/12.6 MB 2.1 MB/s eta 0:00:02\n",
      "   -------------------------------- ------- 10.2/12.6 MB 2.3 MB/s eta 0:00:02\n",
      "   ----------------------------------- ---- 11.3/12.6 MB 2.4 MB/s eta 0:00:01\n",
      "   ---------------------------------------  12.3/12.6 MB 2.5 MB/s eta 0:00:01\n",
      "   ---------------------------------------- 12.6/12.6 MB 2.5 MB/s eta 0:00:00\n",
      "Installing collected packages: numpy\n",
      "Successfully installed numpy-2.1.0\n",
      "Note: you may need to restart the kernel to use updated packages.\n"
     ]
    }
   ],
   "source": [
    "pip install numpy"
   ]
  },
  {
   "cell_type": "code",
   "execution_count": 2,
   "metadata": {},
   "outputs": [],
   "source": [
    "import numpy as np"
   ]
  },
  {
   "cell_type": "code",
   "execution_count": 15,
   "metadata": {},
   "outputs": [
    {
     "name": "stdout",
     "output_type": "stream",
     "text": [
      "[1 2 3 4 5]\n"
     ]
    }
   ],
   "source": [
    "# 1-D array\n",
    "arr1 = np.array([1,2,3,4,5])\n",
    "print(arr1)"
   ]
  },
  {
   "cell_type": "code",
   "execution_count": 5,
   "metadata": {},
   "outputs": [
    {
     "data": {
      "text/plain": [
       "numpy.ndarray"
      ]
     },
     "execution_count": 5,
     "metadata": {},
     "output_type": "execute_result"
    }
   ],
   "source": [
    "type(arr1)"
   ]
  },
  {
   "cell_type": "code",
   "execution_count": 6,
   "metadata": {},
   "outputs": [
    {
     "data": {
      "text/plain": [
       "(5,)"
      ]
     },
     "execution_count": 6,
     "metadata": {},
     "output_type": "execute_result"
    }
   ],
   "source": [
    "arr1.shape"
   ]
  },
  {
   "cell_type": "code",
   "execution_count": 8,
   "metadata": {},
   "outputs": [
    {
     "data": {
      "text/plain": [
       "array([[1, 2, 3],\n",
       "       [4, 5, 6]])"
      ]
     },
     "execution_count": 8,
     "metadata": {},
     "output_type": "execute_result"
    }
   ],
   "source": [
    "arr2 = np.array([1,2,3,4,5,6])\n",
    "arr2.reshape(2,3)"
   ]
  },
  {
   "cell_type": "code",
   "execution_count": 11,
   "metadata": {},
   "outputs": [
    {
     "data": {
      "text/plain": [
       "(1, 5)"
      ]
     },
     "execution_count": 11,
     "metadata": {},
     "output_type": "execute_result"
    }
   ],
   "source": [
    "arr2 = np.array([[1,2,3,4,5]])\n",
    "arr2.shape"
   ]
  },
  {
   "cell_type": "code",
   "execution_count": 14,
   "metadata": {},
   "outputs": [
    {
     "name": "stdout",
     "output_type": "stream",
     "text": [
      "[[ 1  2  3  4  5]\n",
      " [ 6  7  8  9 10]]\n",
      "(2, 5)\n"
     ]
    }
   ],
   "source": [
    "# 2-D array\n",
    "arr2 = np.array([[1,2,3,4,5], [6,7,8,9,10]])\n",
    "print(arr2)\n",
    "print(arr2.shape)"
   ]
  },
  {
   "cell_type": "code",
   "execution_count": 16,
   "metadata": {},
   "outputs": [
    {
     "data": {
      "text/plain": [
       "array([0, 2, 4, 6, 8])"
      ]
     },
     "execution_count": 16,
     "metadata": {},
     "output_type": "execute_result"
    }
   ],
   "source": [
    "np.arange(0,10,2)"
   ]
  },
  {
   "cell_type": "code",
   "execution_count": 17,
   "metadata": {},
   "outputs": [
    {
     "data": {
      "text/plain": [
       "array([[0],\n",
       "       [2],\n",
       "       [4],\n",
       "       [6],\n",
       "       [8]])"
      ]
     },
     "execution_count": 17,
     "metadata": {},
     "output_type": "execute_result"
    }
   ],
   "source": [
    "np.arange(0,10,2).reshape(5,1)"
   ]
  },
  {
   "cell_type": "code",
   "execution_count": 28,
   "metadata": {},
   "outputs": [
    {
     "data": {
      "text/plain": [
       "array([[[ 1,  2,  3],\n",
       "        [ 4,  5,  6]],\n",
       "\n",
       "       [[11, 12, 13],\n",
       "        [14, 15, 16]]])"
      ]
     },
     "execution_count": 28,
     "metadata": {},
     "output_type": "execute_result"
    }
   ],
   "source": [
    "a = np.array([[[1,2,3],[4,5,6]],[[11,12,13],[14,15,16]]])\n",
    "a"
   ]
  },
  {
   "cell_type": "code",
   "execution_count": 29,
   "metadata": {},
   "outputs": [
    {
     "data": {
      "text/plain": [
       "(2, 2, 3)"
      ]
     },
     "execution_count": 29,
     "metadata": {},
     "output_type": "execute_result"
    }
   ],
   "source": [
    "a.shape"
   ]
  },
  {
   "cell_type": "code",
   "execution_count": 30,
   "metadata": {},
   "outputs": [
    {
     "data": {
      "text/plain": [
       "array([[[ 1,  2,  3],\n",
       "        [ 4,  5,  6]],\n",
       "\n",
       "       [[11, 12, 13],\n",
       "        [14, 15, 16]]])"
      ]
     },
     "execution_count": 30,
     "metadata": {},
     "output_type": "execute_result"
    }
   ],
   "source": [
    "a"
   ]
  },
  {
   "cell_type": "code",
   "execution_count": 34,
   "metadata": {},
   "outputs": [
    {
     "name": "stdout",
     "output_type": "stream",
     "text": [
      "[[[ 1  2]\n",
      "  [ 3  4]\n",
      "  [ 5  6]]\n",
      "\n",
      " [[11 12]\n",
      "  [13 14]\n",
      "  [15 16]]]\n",
      "(2, 3, 2)\n"
     ]
    }
   ],
   "source": [
    "print(a.reshape(2,3,2))\n",
    "print(a.reshape(2,3,2).shape)"
   ]
  },
  {
   "cell_type": "code",
   "execution_count": 37,
   "metadata": {},
   "outputs": [
    {
     "data": {
      "text/plain": [
       "array([[1., 1., 1., 1.],\n",
       "       [1., 1., 1., 1.],\n",
       "       [1., 1., 1., 1.]])"
      ]
     },
     "execution_count": 37,
     "metadata": {},
     "output_type": "execute_result"
    }
   ],
   "source": [
    "# in-built functions in numpy\n",
    "np.ones((3,4))"
   ]
  },
  {
   "cell_type": "code",
   "execution_count": 38,
   "metadata": {},
   "outputs": [
    {
     "data": {
      "text/plain": [
       "array([[0., 0., 0., 0.],\n",
       "       [0., 0., 0., 0.],\n",
       "       [0., 0., 0., 0.]])"
      ]
     },
     "execution_count": 38,
     "metadata": {},
     "output_type": "execute_result"
    }
   ],
   "source": [
    "np.zeros((3,4))"
   ]
  },
  {
   "cell_type": "code",
   "execution_count": 40,
   "metadata": {},
   "outputs": [
    {
     "data": {
      "text/plain": [
       "array([[1., 0., 0.],\n",
       "       [0., 1., 0.],\n",
       "       [0., 0., 1.]])"
      ]
     },
     "execution_count": 40,
     "metadata": {},
     "output_type": "execute_result"
    }
   ],
   "source": [
    "# identity matrix\n",
    "np.eye(3)"
   ]
  },
  {
   "cell_type": "code",
   "execution_count": 41,
   "metadata": {},
   "outputs": [
    {
     "data": {
      "text/plain": [
       "array([[[ 1,  2,  3],\n",
       "        [ 4,  5,  6]],\n",
       "\n",
       "       [[11, 12, 13],\n",
       "        [14, 15, 16]]])"
      ]
     },
     "execution_count": 41,
     "metadata": {},
     "output_type": "execute_result"
    }
   ],
   "source": [
    "a"
   ]
  },
  {
   "cell_type": "code",
   "execution_count": 48,
   "metadata": {},
   "outputs": [
    {
     "name": "stdout",
     "output_type": "stream",
     "text": [
      "3 Dimensions\n",
      "(2, 2, 3) Shape\n",
      "12 Size of the matrix or array or number of elements\n",
      "int64 Data type\n",
      "8 Size of individual array element in byte\n",
      "96 Total size of array elements in bytes\n"
     ]
    }
   ],
   "source": [
    "## Basic attributes of Numpy array:\n",
    "print(a.ndim, \"Dimensions\")\n",
    "print(a.shape, \"Shape\")\n",
    "print(a.size, \"Size of the matrix or array or number of elements\")\n",
    "print(a.dtype, \"Data type\")\n",
    "print(a.itemsize, \"Size of individual array element in byte\")\n",
    "print(a.nbytes, \"Total size of array elements in bytes\")"
   ]
  },
  {
   "cell_type": "code",
   "execution_count": 51,
   "metadata": {},
   "outputs": [
    {
     "name": "stdout",
     "output_type": "stream",
     "text": [
      "[1 2 3 4 5] [5 6 7 8 9]\n",
      "[ 6  8 10 12 14]\n",
      "[-4 -4 -4 -4 -4]\n",
      "[ 5 12 21 32 45]\n",
      "[0.2        0.33333333 0.42857143 0.5        0.55555556]\n"
     ]
    }
   ],
   "source": [
    "## Numpy Vectorized operations: \n",
    "arr1 = np.array([1,2,3,4,5])\n",
    "arr2 = np.array([5,6,7,8,9])\n",
    "\n",
    "print(arr1,arr2)\n",
    "\n",
    "# Element-wise Addition\n",
    "print(arr1 + arr2)\n",
    "\n",
    "# Element-wise Subtraction\n",
    "print(arr1 - arr2)\n",
    "\n",
    "# Element-wise Multiplication\n",
    "print(arr1 * arr2)\n",
    "\n",
    "# Element-wise Division\n",
    "print(arr1 / arr2)\n",
    "\n",
    "# the returned output is also an array "
   ]
  },
  {
   "cell_type": "code",
   "execution_count": 53,
   "metadata": {},
   "outputs": [
    {
     "name": "stdout",
     "output_type": "stream",
     "text": [
      "[1.         1.41421356 1.73205081 2.         2.23606798]\n",
      "[  2.71828183   7.3890561   20.08553692  54.59815003 148.4131591 ]\n",
      "[ 0.84147098  0.90929743  0.14112001 -0.7568025  -0.95892427]\n",
      "[0.         0.69314718 1.09861229 1.38629436 1.60943791]\n"
     ]
    }
   ],
   "source": [
    "## Universal Function - Some functions that apply across the array. \n",
    "arr = np.array([1,2,3,4,5])\n",
    "\n",
    "#Square root\n",
    "print(np.sqrt(arr))\n",
    "\n",
    "# Exponential\n",
    "print(np.exp(arr))\n",
    "\n",
    "# Sine\n",
    "print(np.sin(arr))\n",
    "\n",
    "# Natural Log\n",
    "print(np.log(arr))"
   ]
  },
  {
   "cell_type": "code",
   "execution_count": 63,
   "metadata": {},
   "outputs": [
    {
     "name": "stdout",
     "output_type": "stream",
     "text": [
      "[[ 1  2  3  4  5]\n",
      " [ 6  7  8  9 10]\n",
      " [11 12 13 14 15]]\n",
      "1\n",
      "1\n",
      "13\n",
      "[[ 1  2  3  4  5]\n",
      " [ 6  7  8  9 10]\n",
      " [11 12 13 14 15]]\n",
      "[7 8 9]\n"
     ]
    }
   ],
   "source": [
    "# Array Slicing and Indexing: \n",
    "arr = np.array([[1,2,3,4,5], [6,7,8,9,10],[11,12,13,14,15]])\n",
    "print(arr)\n",
    "\n",
    "print(arr[0][0])\n",
    "print(arr[0,0])\n",
    "print(arr[2,2])\n",
    "print(arr[0:3])\n",
    "\n",
    "print(arr[1,1:4])"
   ]
  },
  {
   "cell_type": "code",
   "execution_count": 65,
   "metadata": {},
   "outputs": [
    {
     "name": "stdout",
     "output_type": "stream",
     "text": [
      "[[ 1  2  3  4  5]\n",
      " [ 6  7  8  9 10]\n",
      " [11 12 13 14 15]]\n",
      "[[100   2   3   4   5]\n",
      " [  6   7   8   9  10]\n",
      " [ 11  12  13  14  15]]\n"
     ]
    }
   ],
   "source": [
    "## Modify the array elements\n",
    "print(arr)\n",
    "\n",
    "arr[0,0] = 100\n",
    "\n",
    "print(arr)"
   ]
  },
  {
   "cell_type": "code",
   "execution_count": 66,
   "metadata": {},
   "outputs": [
    {
     "name": "stdout",
     "output_type": "stream",
     "text": [
      "[[100   2   3   4   5]\n",
      " [ 99  99  99  99  99]\n",
      " [ 99  99  99  99  99]]\n"
     ]
    }
   ],
   "source": [
    "arr[1:]=99\n",
    "print(arr)"
   ]
  },
  {
   "cell_type": "code",
   "execution_count": 1,
   "metadata": {},
   "outputs": [],
   "source": [
    "# Statistical Concepts - Normalization\n",
    "# To have a mean of 0 and and standard deviation of 1\n",
    "\n",
    "# Normalization is done to achieve the above config to make calculations easier. "
   ]
  },
  {
   "cell_type": "code",
   "execution_count": 3,
   "metadata": {},
   "outputs": [
    {
     "name": "stdout",
     "output_type": "stream",
     "text": [
      "5.5 - Mean\n",
      "5.5 - Median\n",
      "2.8722813232690143 - Std. Deviation\n",
      "8.25 - Variance\n"
     ]
    }
   ],
   "source": [
    "import numpy as np\n",
    "a = np.array([1,2,3,4,5,6,7,8,9,10])\n",
    "\n",
    "#Mean\n",
    "print(np.mean(a), \"- Mean\")\n",
    "\n",
    "#Median\n",
    "print(np.median(a),\"- Median\")\n",
    "\n",
    "# Standard Deviation\n",
    "print(np.std(a),\"- Std. Deviation\")\n",
    "\n",
    "# Variance\n",
    "print(np.var(a),\"- Variance\")\n"
   ]
  },
  {
   "cell_type": "code",
   "execution_count": 6,
   "metadata": {},
   "outputs": [
    {
     "name": "stdout",
     "output_type": "stream",
     "text": [
      "[[11 13]\n",
      " [15 17]]\n"
     ]
    }
   ],
   "source": [
    "a = np.array([[1,2],[3,4]])\n",
    "b = np.array([[10,11],[12,13]])\n",
    "\n",
    "print(a+b)"
   ]
  },
  {
   "cell_type": "code",
   "execution_count": 17,
   "metadata": {},
   "outputs": [
    {
     "name": "stdout",
     "output_type": "stream",
     "text": [
      "[False False False False False  True  True  True  True  True]\n",
      "[ 6  7  8  9 10]\n",
      "[1 2 3 4 5 6 7]\n",
      "[5 6 7 8]\n"
     ]
    }
   ],
   "source": [
    "#Logical Operations\n",
    "data = np.array([1,2,3,4,5,6,7,8,9,10])\n",
    "\n",
    "print(data>5)\n",
    "print(data[data>5])\n",
    "print(data[data<8])\n",
    "print(data[(data >= 5) & (data<=8)])"
   ]
  },
  {
   "cell_type": "code",
   "execution_count": null,
   "metadata": {},
   "outputs": [],
   "source": []
  }
 ],
 "metadata": {
  "kernelspec": {
   "display_name": "Python 3",
   "language": "python",
   "name": "python3"
  },
  "language_info": {
   "codemirror_mode": {
    "name": "ipython",
    "version": 3
   },
   "file_extension": ".py",
   "mimetype": "text/x-python",
   "name": "python",
   "nbconvert_exporter": "python",
   "pygments_lexer": "ipython3",
   "version": "3.12.0"
  }
 },
 "nbformat": 4,
 "nbformat_minor": 2
}
