{
 "cells": [
  {
   "cell_type": "code",
   "execution_count": 1,
   "id": "d719022f-c165-40c0-97bc-906fa35e59dd",
   "metadata": {},
   "outputs": [],
   "source": [
    "# Lets first discuss about the different types of arrays. \n",
    "\n",
    "import numpy as np "
   ]
  },
  {
   "cell_type": "code",
   "execution_count": 2,
   "id": "56a6fc27-0db5-4481-af4e-12ec381f2cfd",
   "metadata": {},
   "outputs": [],
   "source": [
    "a = np.array([1,2,3,4,5])"
   ]
  },
  {
   "cell_type": "code",
   "execution_count": 3,
   "id": "240a92be-e39e-4971-877e-e909c4079a72",
   "metadata": {},
   "outputs": [
    {
     "data": {
      "text/plain": [
       "array([1, 2, 3, 4, 5])"
      ]
     },
     "execution_count": 3,
     "metadata": {},
     "output_type": "execute_result"
    }
   ],
   "source": [
    "a"
   ]
  },
  {
   "cell_type": "code",
   "execution_count": 4,
   "id": "73b22d04-7425-47f8-b3f5-07eff11edf6e",
   "metadata": {},
   "outputs": [],
   "source": [
    "b=np.array([0.5,1.5,3.6,9.2])"
   ]
  },
  {
   "cell_type": "code",
   "execution_count": 5,
   "id": "4f5e0cf0-4d08-4392-8b6b-15e3ed47b73d",
   "metadata": {},
   "outputs": [
    {
     "data": {
      "text/plain": [
       "array([0.5, 1.5, 3.6, 9.2])"
      ]
     },
     "execution_count": 5,
     "metadata": {},
     "output_type": "execute_result"
    }
   ],
   "source": [
    "b"
   ]
  },
  {
   "cell_type": "code",
   "execution_count": 6,
   "id": "57fa8ac6-c801-499d-be69-ae1ab4835c9f",
   "metadata": {},
   "outputs": [
    {
     "data": {
      "text/plain": [
       "dtype('int32')"
      ]
     },
     "execution_count": 6,
     "metadata": {},
     "output_type": "execute_result"
    }
   ],
   "source": [
    "a.dtype"
   ]
  },
  {
   "cell_type": "code",
   "execution_count": 7,
   "id": "b539d6ff-a5f8-4dbf-9483-250566e6a2c5",
   "metadata": {},
   "outputs": [
    {
     "data": {
      "text/plain": [
       "dtype('float64')"
      ]
     },
     "execution_count": 7,
     "metadata": {},
     "output_type": "execute_result"
    }
   ],
   "source": [
    "b.dtype"
   ]
  },
  {
   "cell_type": "code",
   "execution_count": 8,
   "id": "16c137f9-8a1a-484c-86ae-42ba73a2d9ab",
   "metadata": {},
   "outputs": [
    {
     "data": {
      "text/plain": [
       "array([1., 2., 3., 4.])"
      ]
     },
     "execution_count": 8,
     "metadata": {},
     "output_type": "execute_result"
    }
   ],
   "source": [
    "np.array([1,2,3,4], dtype = np.float64)"
   ]
  },
  {
   "cell_type": "code",
   "execution_count": 9,
   "id": "a9dbfe68-87d8-480b-a5b1-c56aef3d724e",
   "metadata": {},
   "outputs": [
    {
     "data": {
      "text/plain": [
       "array([1, 2, 3, 4], dtype=int8)"
      ]
     },
     "execution_count": 9,
     "metadata": {},
     "output_type": "execute_result"
    }
   ],
   "source": [
    "np.array([1,2,3,4], dtype = np.int8)"
   ]
  },
  {
   "cell_type": "code",
   "execution_count": 10,
   "id": "fa235c65-d36b-4a91-a852-14693e37fe30",
   "metadata": {},
   "outputs": [],
   "source": [
    "c = np.array([\"a\",\"b\",\"c\"])"
   ]
  },
  {
   "cell_type": "code",
   "execution_count": 11,
   "id": "57a88ac0-9fa0-4573-8069-8766ec78851a",
   "metadata": {},
   "outputs": [
    {
     "data": {
      "text/plain": [
       "dtype('<U1')"
      ]
     },
     "execution_count": 11,
     "metadata": {},
     "output_type": "execute_result"
    }
   ],
   "source": [
    "c.dtype"
   ]
  },
  {
   "cell_type": "code",
   "execution_count": 12,
   "id": "1894e738-3923-48b8-abf6-3b900d620a3d",
   "metadata": {},
   "outputs": [],
   "source": [
    "import sys\n",
    "d = np.array([{\"a\":1}, sys])"
   ]
  },
  {
   "cell_type": "code",
   "execution_count": 13,
   "id": "78a10a26-d610-4068-85f2-9a32796e9991",
   "metadata": {},
   "outputs": [
    {
     "data": {
      "text/plain": [
       "array([{'a': 1}, <module 'sys' (built-in)>], dtype=object)"
      ]
     },
     "execution_count": 13,
     "metadata": {},
     "output_type": "execute_result"
    }
   ],
   "source": [
    "d"
   ]
  },
  {
   "cell_type": "code",
   "execution_count": 14,
   "id": "d2edaaf3-a316-46b9-a2f3-5f4c52c8e2d5",
   "metadata": {},
   "outputs": [
    {
     "data": {
      "text/plain": [
       "dtype('O')"
      ]
     },
     "execution_count": 14,
     "metadata": {},
     "output_type": "execute_result"
    }
   ],
   "source": [
    "d.dtype"
   ]
  },
  {
   "cell_type": "code",
   "execution_count": 15,
   "id": "dab5b35c-63c4-43a9-ad7b-aa018bc45fd4",
   "metadata": {},
   "outputs": [],
   "source": [
    "a = np.array ( [\n",
    "    [1,2,3],\n",
    "    [4,5,6]\n",
    "])"
   ]
  },
  {
   "cell_type": "code",
   "execution_count": 16,
   "id": "23ad133c-8817-4805-8554-b0df6d0f49e3",
   "metadata": {},
   "outputs": [
    {
     "data": {
      "text/plain": [
       "(2, 3)"
      ]
     },
     "execution_count": 16,
     "metadata": {},
     "output_type": "execute_result"
    }
   ],
   "source": [
    "a.shape"
   ]
  },
  {
   "cell_type": "code",
   "execution_count": 17,
   "id": "de100c02-1682-4226-9ef2-13c59d7b0631",
   "metadata": {},
   "outputs": [
    {
     "data": {
      "text/plain": [
       "2"
      ]
     },
     "execution_count": 17,
     "metadata": {},
     "output_type": "execute_result"
    }
   ],
   "source": [
    "a.ndim"
   ]
  },
  {
   "cell_type": "code",
   "execution_count": 18,
   "id": "cdc373ea-9ae0-4edf-abcf-0064efc0eb1a",
   "metadata": {},
   "outputs": [
    {
     "data": {
      "text/plain": [
       "6"
      ]
     },
     "execution_count": 18,
     "metadata": {},
     "output_type": "execute_result"
    }
   ],
   "source": [
    "a.size"
   ]
  },
  {
   "cell_type": "code",
   "execution_count": 19,
   "id": "ed6875a2-df82-4471-b427-07f6561d55e5",
   "metadata": {},
   "outputs": [],
   "source": [
    "B = np.array([\n",
    "    [\n",
    "        [1,2],\n",
    "        [5,6],\n",
    "    ],\n",
    "    [\n",
    "        [12,23],\n",
    "        [13,24]\n",
    "    ]\n",
    "])"
   ]
  },
  {
   "cell_type": "code",
   "execution_count": 20,
   "id": "0061f919-08e4-4332-b627-75f7335e3990",
   "metadata": {},
   "outputs": [
    {
     "data": {
      "text/plain": [
       "(2, 2, 2)"
      ]
     },
     "execution_count": 20,
     "metadata": {},
     "output_type": "execute_result"
    }
   ],
   "source": [
    "B.shape"
   ]
  },
  {
   "cell_type": "code",
   "execution_count": 21,
   "id": "f5d8266a-79af-4237-9a7b-a43b1163a857",
   "metadata": {},
   "outputs": [
    {
     "data": {
      "text/plain": [
       "3"
      ]
     },
     "execution_count": 21,
     "metadata": {},
     "output_type": "execute_result"
    }
   ],
   "source": [
    "B.ndim"
   ]
  },
  {
   "cell_type": "code",
   "execution_count": 22,
   "id": "dcca9af0-4b3e-4d74-a81c-1d4bedfce757",
   "metadata": {},
   "outputs": [
    {
     "data": {
      "text/plain": [
       "8"
      ]
     },
     "execution_count": 22,
     "metadata": {},
     "output_type": "execute_result"
    }
   ],
   "source": [
    "B.size"
   ]
  },
  {
   "cell_type": "code",
   "execution_count": 23,
   "id": "e72fc6d5-96f7-46d0-85a3-f241a04e2e2e",
   "metadata": {},
   "outputs": [
    {
     "ename": "ValueError",
     "evalue": "setting an array element with a sequence. The requested array has an inhomogeneous shape after 1 dimensions. The detected shape was (2,) + inhomogeneous part.",
     "output_type": "error",
     "traceback": [
      "\u001b[1;31m---------------------------------------------------------------------------\u001b[0m",
      "\u001b[1;31mValueError\u001b[0m                                Traceback (most recent call last)",
      "Cell \u001b[1;32mIn[23], line 1\u001b[0m\n\u001b[1;32m----> 1\u001b[0m C \u001b[38;5;241m=\u001b[39m np\u001b[38;5;241m.\u001b[39marray([\n\u001b[0;32m      2\u001b[0m     [\n\u001b[0;32m      3\u001b[0m         [\u001b[38;5;241m1\u001b[39m,\u001b[38;5;241m2\u001b[39m,\u001b[38;5;241m3\u001b[39m,\u001b[38;5;241m4\u001b[39m],\n\u001b[0;32m      4\u001b[0m         [\u001b[38;5;241m5\u001b[39m,\u001b[38;5;241m6\u001b[39m,\u001b[38;5;241m7\u001b[39m,\u001b[38;5;241m8\u001b[39m],\n\u001b[0;32m      5\u001b[0m     ],\n\u001b[0;32m      6\u001b[0m     [\n\u001b[0;32m      7\u001b[0m         [\u001b[38;5;241m12\u001b[39m,\u001b[38;5;241m32\u001b[39m,\u001b[38;5;241m45\u001b[39m,\u001b[38;5;241m56\u001b[39m]\n\u001b[0;32m      8\u001b[0m     ]\n\u001b[0;32m      9\u001b[0m ])\n",
      "\u001b[1;31mValueError\u001b[0m: setting an array element with a sequence. The requested array has an inhomogeneous shape after 1 dimensions. The detected shape was (2,) + inhomogeneous part."
     ]
    }
   ],
   "source": [
    "C = np.array([\n",
    "    [\n",
    "        [1,2,3,4],\n",
    "        [5,6,7,8],\n",
    "    ],\n",
    "    [\n",
    "        [12,32,45,56]\n",
    "    ]\n",
    "])"
   ]
  },
  {
   "cell_type": "code",
   "execution_count": 24,
   "id": "adef5dab-e72a-456d-a42b-f8b6ce704a51",
   "metadata": {},
   "outputs": [
    {
     "ename": "NameError",
     "evalue": "name 'C' is not defined",
     "output_type": "error",
     "traceback": [
      "\u001b[1;31m---------------------------------------------------------------------------\u001b[0m",
      "\u001b[1;31mNameError\u001b[0m                                 Traceback (most recent call last)",
      "Cell \u001b[1;32mIn[24], line 1\u001b[0m\n\u001b[1;32m----> 1\u001b[0m C\u001b[38;5;241m.\u001b[39mdtype\n",
      "\u001b[1;31mNameError\u001b[0m: name 'C' is not defined"
     ]
    }
   ],
   "source": [
    "C.dtype"
   ]
  },
  {
   "cell_type": "code",
   "execution_count": null,
   "id": "bd158778-8877-48d3-8e13-54306a928d5b",
   "metadata": {},
   "outputs": [],
   "source": [
    "a"
   ]
  },
  {
   "cell_type": "code",
   "execution_count": null,
   "id": "375e6a95-dd53-408d-b97b-23c772a121cb",
   "metadata": {},
   "outputs": [],
   "source": [
    "a[1]"
   ]
  },
  {
   "cell_type": "code",
   "execution_count": null,
   "id": "26a75b0d-cc8c-41e3-a21a-a23cd33ece1b",
   "metadata": {},
   "outputs": [],
   "source": [
    "a[1][2]"
   ]
  },
  {
   "cell_type": "code",
   "execution_count": null,
   "id": "371b5194-145c-4837-9580-c6bdc41cda5d",
   "metadata": {},
   "outputs": [],
   "source": [
    "a[1,2]"
   ]
  },
  {
   "cell_type": "code",
   "execution_count": null,
   "id": "e5ff5943-a4e5-42dd-af62-aa743415bc42",
   "metadata": {},
   "outputs": [],
   "source": [
    "a[:2]"
   ]
  },
  {
   "cell_type": "code",
   "execution_count": null,
   "id": "79ccf327-b875-4853-8fe3-fa90440d29b7",
   "metadata": {},
   "outputs": [],
   "source": [
    "a[:]"
   ]
  },
  {
   "cell_type": "code",
   "execution_count": null,
   "id": "47362ef0-21e8-40d9-88e8-a1ccddade5e8",
   "metadata": {},
   "outputs": [],
   "source": [
    "a[:]"
   ]
  },
  {
   "cell_type": "code",
   "execution_count": null,
   "id": "02a8b881-7d64-4c0b-ab8f-b5985266ba74",
   "metadata": {},
   "outputs": [],
   "source": [
    "a[:1,:1]"
   ]
  },
  {
   "cell_type": "code",
   "execution_count": 25,
   "id": "ed17a34b-8e92-4717-a883-cbea51a8b33a",
   "metadata": {},
   "outputs": [
    {
     "data": {
      "text/plain": [
       "array([[1],\n",
       "       [4]])"
      ]
     },
     "execution_count": 25,
     "metadata": {},
     "output_type": "execute_result"
    }
   ],
   "source": [
    "a[:2,:1]"
   ]
  },
  {
   "cell_type": "code",
   "execution_count": 26,
   "id": "619281b2-29fd-4c14-be8d-5938c4037501",
   "metadata": {},
   "outputs": [
    {
     "data": {
      "text/plain": [
       "array([[1, 2, 3],\n",
       "       [4, 5, 6]])"
      ]
     },
     "execution_count": 26,
     "metadata": {},
     "output_type": "execute_result"
    }
   ],
   "source": [
    "a"
   ]
  },
  {
   "cell_type": "code",
   "execution_count": 27,
   "id": "93efdce1-4df2-4c22-b7c9-cc05fe80c364",
   "metadata": {},
   "outputs": [],
   "source": [
    "a[1] = np.array([10,10,10])"
   ]
  },
  {
   "cell_type": "code",
   "execution_count": 28,
   "id": "b79294c1-dcd8-43b0-a75b-7acd13cd46bf",
   "metadata": {},
   "outputs": [
    {
     "data": {
      "text/plain": [
       "array([[ 1,  2,  3],\n",
       "       [10, 10, 10]])"
      ]
     },
     "execution_count": 28,
     "metadata": {},
     "output_type": "execute_result"
    }
   ],
   "source": [
    "a"
   ]
  },
  {
   "cell_type": "code",
   "execution_count": 29,
   "id": "ad6ff3f9-b92a-488f-b446-8eb145f9a051",
   "metadata": {},
   "outputs": [
    {
     "data": {
      "text/plain": [
       "array([20, 21, 22, 23, 24])"
      ]
     },
     "execution_count": 29,
     "metadata": {},
     "output_type": "execute_result"
    }
   ],
   "source": [
    "a = np.arange(5)\n",
    "a + 20"
   ]
  },
  {
   "cell_type": "code",
   "execution_count": 30,
   "id": "c31b4f29-7fb4-45c9-afb4-f98959acf185",
   "metadata": {},
   "outputs": [
    {
     "data": {
      "text/plain": [
       "array([0, 1, 2, 3, 4])"
      ]
     },
     "execution_count": 30,
     "metadata": {},
     "output_type": "execute_result"
    }
   ],
   "source": [
    "a"
   ]
  },
  {
   "cell_type": "code",
   "execution_count": 31,
   "id": "90b5353f-a483-4d91-9039-3e44bf818656",
   "metadata": {},
   "outputs": [
    {
     "data": {
      "text/plain": [
       "array([0, 1, 2, 3, 4])"
      ]
     },
     "execution_count": 31,
     "metadata": {},
     "output_type": "execute_result"
    }
   ],
   "source": [
    "a"
   ]
  },
  {
   "cell_type": "code",
   "execution_count": 32,
   "id": "7b6d818e-1004-4d1a-8b53-446a96a05d28",
   "metadata": {},
   "outputs": [
    {
     "data": {
      "text/plain": [
       "(0, 1)"
      ]
     },
     "execution_count": 32,
     "metadata": {},
     "output_type": "execute_result"
    }
   ],
   "source": [
    "a[0],a[1]"
   ]
  },
  {
   "cell_type": "code",
   "execution_count": 33,
   "id": "00eb26c1-86e4-4bf5-a79e-e1e44782b1dc",
   "metadata": {},
   "outputs": [
    {
     "data": {
      "text/plain": [
       "array([0, 1, 2, 3, 4])"
      ]
     },
     "execution_count": 33,
     "metadata": {},
     "output_type": "execute_result"
    }
   ],
   "source": [
    "a"
   ]
  },
  {
   "cell_type": "code",
   "execution_count": 34,
   "id": "4934c62b-daeb-440f-9011-46b94e3ac745",
   "metadata": {},
   "outputs": [
    {
     "data": {
      "text/plain": [
       "array([0, 1])"
      ]
     },
     "execution_count": 34,
     "metadata": {},
     "output_type": "execute_result"
    }
   ],
   "source": [
    "a[[0,1]]"
   ]
  },
  {
   "cell_type": "code",
   "execution_count": 35,
   "id": "d06bed24-2286-4cc5-af10-bb065a88d2a6",
   "metadata": {},
   "outputs": [
    {
     "data": {
      "text/plain": [
       "array([0, 1, 2, 3, 4])"
      ]
     },
     "execution_count": 35,
     "metadata": {},
     "output_type": "execute_result"
    }
   ],
   "source": [
    "a"
   ]
  },
  {
   "cell_type": "code",
   "execution_count": 36,
   "id": "a6308d62-ae02-413f-954d-df60afc9262d",
   "metadata": {},
   "outputs": [
    {
     "data": {
      "text/plain": [
       "array([0, 3])"
      ]
     },
     "execution_count": 36,
     "metadata": {},
     "output_type": "execute_result"
    }
   ],
   "source": [
    "a[[True, False, False, True,False]]"
   ]
  },
  {
   "cell_type": "code",
   "execution_count": 37,
   "id": "1a7dda3c-99fc-40b9-80ae-ac296c20fdcf",
   "metadata": {},
   "outputs": [
    {
     "data": {
      "text/plain": [
       "array([False, False,  True,  True,  True])"
      ]
     },
     "execution_count": 37,
     "metadata": {},
     "output_type": "execute_result"
    }
   ],
   "source": [
    "a>=2"
   ]
  },
  {
   "cell_type": "code",
   "execution_count": 38,
   "id": "307834d7-5dd1-4f52-8818-0ad6ec6b8936",
   "metadata": {},
   "outputs": [
    {
     "data": {
      "text/plain": [
       "array([2, 3, 4])"
      ]
     },
     "execution_count": 38,
     "metadata": {},
     "output_type": "execute_result"
    }
   ],
   "source": [
    "a[a>=2]"
   ]
  },
  {
   "cell_type": "code",
   "execution_count": 39,
   "id": "725ee8c5-4548-4db9-b4c8-00455cfcd242",
   "metadata": {},
   "outputs": [
    {
     "data": {
      "text/plain": [
       "array([0, 1, 2, 3, 4])"
      ]
     },
     "execution_count": 39,
     "metadata": {},
     "output_type": "execute_result"
    }
   ],
   "source": [
    "a"
   ]
  },
  {
   "cell_type": "code",
   "execution_count": 40,
   "id": "b0425943-b1d0-4017-b84f-00127fb54184",
   "metadata": {},
   "outputs": [
    {
     "data": {
      "text/plain": [
       "2.0"
      ]
     },
     "execution_count": 40,
     "metadata": {},
     "output_type": "execute_result"
    }
   ],
   "source": [
    "a.mean()"
   ]
  },
  {
   "cell_type": "code",
   "execution_count": 41,
   "id": "002466a2-1c24-47e4-97fc-34aeaeb40240",
   "metadata": {},
   "outputs": [
    {
     "data": {
      "text/plain": [
       "array([3, 4])"
      ]
     },
     "execution_count": 41,
     "metadata": {},
     "output_type": "execute_result"
    }
   ],
   "source": [
    "a[a>a.mean()]"
   ]
  },
  {
   "cell_type": "code",
   "execution_count": 42,
   "id": "e543272a-255b-491f-b286-07bc887eaa00",
   "metadata": {},
   "outputs": [
    {
     "data": {
      "text/plain": [
       "array([0, 1, 2])"
      ]
     },
     "execution_count": 42,
     "metadata": {},
     "output_type": "execute_result"
    }
   ],
   "source": [
    "a[~(a>a.mean())]"
   ]
  },
  {
   "cell_type": "code",
   "execution_count": 43,
   "id": "04431280-d19e-462b-8d66-e3ee2bef0209",
   "metadata": {},
   "outputs": [
    {
     "data": {
      "text/plain": [
       "array([0, 1])"
      ]
     },
     "execution_count": 43,
     "metadata": {},
     "output_type": "execute_result"
    }
   ],
   "source": [
    "a[(a==0) | (a==1)]"
   ]
  },
  {
   "cell_type": "code",
   "execution_count": 44,
   "id": "ed053055-95b1-42ef-88bb-1c78b42d31b3",
   "metadata": {},
   "outputs": [
    {
     "data": {
      "text/plain": [
       "array([0])"
      ]
     },
     "execution_count": 44,
     "metadata": {},
     "output_type": "execute_result"
    }
   ],
   "source": [
    "a[(a==0)]"
   ]
  },
  {
   "cell_type": "code",
   "execution_count": 45,
   "id": "eea4cd78-0024-43da-92a7-10b07203d396",
   "metadata": {},
   "outputs": [
    {
     "data": {
      "text/plain": [
       "array([2, 4])"
      ]
     },
     "execution_count": 45,
     "metadata": {},
     "output_type": "execute_result"
    }
   ],
   "source": [
    "a[(a>=2) & (a%2 == 0)]"
   ]
  },
  {
   "cell_type": "code",
   "execution_count": 46,
   "id": "ef44c395-d9a3-465a-8f79-4e4c57191d58",
   "metadata": {},
   "outputs": [],
   "source": [
    "import random"
   ]
  },
  {
   "cell_type": "code",
   "execution_count": 47,
   "id": "6c953c4c-e34e-41bf-bb46-98be948e4f58",
   "metadata": {},
   "outputs": [],
   "source": [
    "A = np.random.randint(100, size = (3,3))"
   ]
  },
  {
   "cell_type": "code",
   "execution_count": 48,
   "id": "d81f2b4b-86ce-4acb-8f6f-c3c48fef9206",
   "metadata": {},
   "outputs": [
    {
     "data": {
      "text/plain": [
       "array([[54, 23, 16],\n",
       "       [69, 64, 75],\n",
       "       [71, 81, 12]])"
      ]
     },
     "execution_count": 48,
     "metadata": {},
     "output_type": "execute_result"
    }
   ],
   "source": [
    "A"
   ]
  },
  {
   "cell_type": "code",
   "execution_count": 49,
   "id": "11b8feeb-c064-4b88-be50-f8d5bc4211c8",
   "metadata": {},
   "outputs": [
    {
     "data": {
      "text/plain": [
       "array([0, 1, 2, 3, 4])"
      ]
     },
     "execution_count": 49,
     "metadata": {},
     "output_type": "execute_result"
    }
   ],
   "source": [
    "a "
   ]
  },
  {
   "cell_type": "code",
   "execution_count": 50,
   "id": "e902237f-5b09-4ce5-a1ae-44ae18b9b920",
   "metadata": {},
   "outputs": [],
   "source": [
    "a = np.arange(5)"
   ]
  },
  {
   "cell_type": "code",
   "execution_count": 51,
   "id": "041feae8-0df8-4793-a5be-4df20a9f6be1",
   "metadata": {},
   "outputs": [
    {
     "name": "stdout",
     "output_type": "stream",
     "text": [
      "[ True  True  True  True False]\n"
     ]
    }
   ],
   "source": [
    "print(a <= 3)"
   ]
  },
  {
   "cell_type": "code",
   "execution_count": 52,
   "id": "ee4003fb-c347-4c5d-9130-c03809e347fc",
   "metadata": {},
   "outputs": [],
   "source": [
    "import sys"
   ]
  },
  {
   "cell_type": "code",
   "execution_count": 53,
   "id": "bffb91d6-a1ee-48fc-b4a8-4f51604012ec",
   "metadata": {},
   "outputs": [
    {
     "data": {
      "text/plain": [
       "28"
      ]
     },
     "execution_count": 53,
     "metadata": {},
     "output_type": "execute_result"
    }
   ],
   "source": [
    "sys.getsizeof(1)"
   ]
  },
  {
   "cell_type": "code",
   "execution_count": 54,
   "id": "cdadc097-5a45-4b9a-bbec-face8046befa",
   "metadata": {},
   "outputs": [
    {
     "data": {
      "text/plain": [
       "42"
      ]
     },
     "execution_count": 54,
     "metadata": {},
     "output_type": "execute_result"
    }
   ],
   "source": [
    "sys.getsizeof(\"a\")"
   ]
  },
  {
   "cell_type": "code",
   "execution_count": 55,
   "id": "da739127-f3fc-4a59-811b-f36b101bcc6d",
   "metadata": {},
   "outputs": [
    {
     "data": {
      "text/plain": [
       "46"
      ]
     },
     "execution_count": 55,
     "metadata": {},
     "output_type": "execute_result"
    }
   ],
   "source": [
    "sys.getsizeof(\"frgjh\")"
   ]
  },
  {
   "cell_type": "code",
   "execution_count": 56,
   "id": "769e22ee-d309-44b2-801d-69e67cb4ad5c",
   "metadata": {},
   "outputs": [],
   "source": [
    "a=np.array(1, dtype = np.int8)"
   ]
  },
  {
   "cell_type": "code",
   "execution_count": 57,
   "id": "d00fee5d-ceb0-49f2-be4d-df3d83ba5907",
   "metadata": {},
   "outputs": [
    {
     "data": {
      "text/plain": [
       "array(1, dtype=int8)"
      ]
     },
     "execution_count": 57,
     "metadata": {},
     "output_type": "execute_result"
    }
   ],
   "source": [
    "a"
   ]
  },
  {
   "cell_type": "code",
   "execution_count": 58,
   "id": "1e8d3987-d526-41cf-80e3-71ee81381d82",
   "metadata": {},
   "outputs": [
    {
     "data": {
      "text/plain": [
       "97"
      ]
     },
     "execution_count": 58,
     "metadata": {},
     "output_type": "execute_result"
    }
   ],
   "source": [
    "sys.getsizeof(a)"
   ]
  },
  {
   "cell_type": "code",
   "execution_count": 59,
   "id": "15e89e3f-0d64-477d-b7c7-d8266e8b43a1",
   "metadata": {},
   "outputs": [
    {
     "data": {
      "text/plain": [
       "4"
      ]
     },
     "execution_count": 59,
     "metadata": {},
     "output_type": "execute_result"
    }
   ],
   "source": [
    "np.dtype(int).itemsize"
   ]
  },
  {
   "cell_type": "code",
   "execution_count": 60,
   "id": "9a29b4e4-2b54-4a9f-b620-9ab705bd1d61",
   "metadata": {},
   "outputs": [
    {
     "data": {
      "text/plain": [
       "1"
      ]
     },
     "execution_count": 60,
     "metadata": {},
     "output_type": "execute_result"
    }
   ],
   "source": [
    "np.dtype(np.int8).itemsize"
   ]
  },
  {
   "cell_type": "code",
   "execution_count": 61,
   "id": "b0a745a6-1d2f-40ec-a028-520e4a48e3de",
   "metadata": {},
   "outputs": [
    {
     "data": {
      "text/plain": [
       "8"
      ]
     },
     "execution_count": 61,
     "metadata": {},
     "output_type": "execute_result"
    }
   ],
   "source": [
    "np.dtype(float).itemsize"
   ]
  },
  {
   "cell_type": "code",
   "execution_count": 62,
   "id": "478c11d2-7b49-4f7e-987e-b149ddf95b11",
   "metadata": {},
   "outputs": [],
   "source": [
    "l = list(range(1000000))"
   ]
  },
  {
   "cell_type": "code",
   "execution_count": 63,
   "id": "004092c5-f7b9-43ea-aff6-bba1639a9576",
   "metadata": {},
   "outputs": [],
   "source": [
    "a = np.arange(1000000)"
   ]
  },
  {
   "cell_type": "code",
   "execution_count": 64,
   "id": "6ccc4813-8b31-4229-9073-96727563dacc",
   "metadata": {},
   "outputs": [
    {
     "name": "stdout",
     "output_type": "stream",
     "text": [
      "CPU times: total: 46.9 ms\n",
      "Wall time: 186 ms\n"
     ]
    },
    {
     "data": {
      "text/plain": [
       "333332833333500000"
      ]
     },
     "execution_count": 64,
     "metadata": {},
     "output_type": "execute_result"
    }
   ],
   "source": [
    "%%time \n",
    "sum([x**2 for x in l])"
   ]
  },
  {
   "cell_type": "code",
   "execution_count": 65,
   "id": "a46d174f-f421-4866-a368-e0b449796dbc",
   "metadata": {},
   "outputs": [
    {
     "name": "stdout",
     "output_type": "stream",
     "text": [
      "CPU times: total: 0 ns\n",
      "Wall time: 4.55 ms\n"
     ]
    },
    {
     "data": {
      "text/plain": [
       "584144992"
      ]
     },
     "execution_count": 65,
     "metadata": {},
     "output_type": "execute_result"
    }
   ],
   "source": [
    "%time np.sum(a**2)"
   ]
  },
  {
   "cell_type": "code",
   "execution_count": 66,
   "id": "4582baa1-184d-4157-95c8-6b365cef9fd2",
   "metadata": {},
   "outputs": [
    {
     "data": {
      "text/plain": [
       "array([     0,      1,      2, ..., 999997, 999998, 999999])"
      ]
     },
     "execution_count": 66,
     "metadata": {},
     "output_type": "execute_result"
    }
   ],
   "source": [
    "a"
   ]
  },
  {
   "cell_type": "code",
   "execution_count": 67,
   "id": "e18792a9-6b88-4a0b-85ba-3ee081b4cffc",
   "metadata": {},
   "outputs": [],
   "source": [
    "a = np.array([1,2,3,4])"
   ]
  },
  {
   "cell_type": "code",
   "execution_count": 68,
   "id": "1871c064-52e4-4dbe-9474-b40cee98c9bb",
   "metadata": {},
   "outputs": [
    {
     "data": {
      "text/plain": [
       "array([1, 2, 3, 4])"
      ]
     },
     "execution_count": 68,
     "metadata": {},
     "output_type": "execute_result"
    }
   ],
   "source": [
    "a"
   ]
  },
  {
   "cell_type": "code",
   "execution_count": 69,
   "id": "5feb1e5c-7aa3-4b2c-9b73-09d21dd58e3f",
   "metadata": {},
   "outputs": [
    {
     "data": {
      "text/plain": [
       "16"
      ]
     },
     "execution_count": 69,
     "metadata": {},
     "output_type": "execute_result"
    }
   ],
   "source": [
    "np.array([1,2,3,4]).nbytes"
   ]
  },
  {
   "cell_type": "code",
   "execution_count": 70,
   "id": "bc7ff131-5512-4e55-9a07-b658cf562a2c",
   "metadata": {},
   "outputs": [
    {
     "data": {
      "text/plain": [
       "88"
      ]
     },
     "execution_count": 70,
     "metadata": {},
     "output_type": "execute_result"
    }
   ],
   "source": [
    "sys.getsizeof([1,2,3,4])"
   ]
  },
  {
   "cell_type": "code",
   "execution_count": 71,
   "id": "5ecd8d5b-8155-41c0-9f37-f7c573190c0a",
   "metadata": {},
   "outputs": [],
   "source": [
    "import sys\n",
    "import numpy as np"
   ]
  },
  {
   "cell_type": "code",
   "execution_count": 72,
   "id": "47cbb437-f77f-4b56-b586-3a3e9882e48c",
   "metadata": {},
   "outputs": [
    {
     "data": {
      "text/plain": [
       "array([1, 2, 3, 4])"
      ]
     },
     "execution_count": 72,
     "metadata": {},
     "output_type": "execute_result"
    }
   ],
   "source": [
    "np.array([1,2,3,4])"
   ]
  },
  {
   "cell_type": "code",
   "execution_count": 73,
   "id": "c1e285cd-1181-4590-853b-073242094367",
   "metadata": {},
   "outputs": [],
   "source": [
    "a = np.array([\"a\",\"b\",\"v\"])"
   ]
  },
  {
   "cell_type": "code",
   "execution_count": 74,
   "id": "3e410264-e73c-47dc-a672-78f37c952e1f",
   "metadata": {},
   "outputs": [
    {
     "data": {
      "text/plain": [
       "array(['a', 'b', 'v'], dtype='<U1')"
      ]
     },
     "execution_count": 74,
     "metadata": {},
     "output_type": "execute_result"
    }
   ],
   "source": [
    "a"
   ]
  },
  {
   "cell_type": "code",
   "execution_count": 75,
   "id": "247fdef6-27e4-413c-806b-18dcd12187da",
   "metadata": {},
   "outputs": [],
   "source": [
    "b = np.array([12,24,56,345])"
   ]
  },
  {
   "cell_type": "code",
   "execution_count": 76,
   "id": "75566ae1-3ac7-4ffe-8ce9-e06ab028966c",
   "metadata": {},
   "outputs": [
    {
     "data": {
      "text/plain": [
       "array([ 12,  24,  56, 345])"
      ]
     },
     "execution_count": 76,
     "metadata": {},
     "output_type": "execute_result"
    }
   ],
   "source": [
    "b"
   ]
  },
  {
   "cell_type": "code",
   "execution_count": 77,
   "id": "19ffa527-ed28-4a94-883d-050f5a61262d",
   "metadata": {},
   "outputs": [
    {
     "data": {
      "text/plain": [
       "'a'"
      ]
     },
     "execution_count": 77,
     "metadata": {},
     "output_type": "execute_result"
    }
   ],
   "source": [
    "a[0]"
   ]
  },
  {
   "cell_type": "code",
   "execution_count": 78,
   "id": "d0dbb96a-c61a-41e6-a5d7-2f1e6972bdbb",
   "metadata": {},
   "outputs": [
    {
     "data": {
      "text/plain": [
       "'v'"
      ]
     },
     "execution_count": 78,
     "metadata": {},
     "output_type": "execute_result"
    }
   ],
   "source": [
    "a[2]"
   ]
  },
  {
   "cell_type": "code",
   "execution_count": 79,
   "id": "8c5897ed-a76c-4d76-a6ec-c97a2183ef06",
   "metadata": {},
   "outputs": [
    {
     "data": {
      "text/plain": [
       "56"
      ]
     },
     "execution_count": 79,
     "metadata": {},
     "output_type": "execute_result"
    }
   ],
   "source": [
    "b[2]"
   ]
  },
  {
   "cell_type": "code",
   "execution_count": 80,
   "id": "a12923d6-1412-4fc0-a491-3b2531d243cd",
   "metadata": {},
   "outputs": [],
   "source": [
    "c = (a[2],b[2])"
   ]
  },
  {
   "cell_type": "code",
   "execution_count": 81,
   "id": "c4c75670-83c5-442d-82e1-fa72281aab18",
   "metadata": {},
   "outputs": [
    {
     "data": {
      "text/plain": [
       "dtype('<U1')"
      ]
     },
     "execution_count": 81,
     "metadata": {},
     "output_type": "execute_result"
    }
   ],
   "source": [
    "a.dtype"
   ]
  },
  {
   "cell_type": "code",
   "execution_count": 82,
   "id": "7e63d5eb-5bb8-46ef-aea6-25efe901818d",
   "metadata": {},
   "outputs": [
    {
     "data": {
      "text/plain": [
       "dtype('int32')"
      ]
     },
     "execution_count": 82,
     "metadata": {},
     "output_type": "execute_result"
    }
   ],
   "source": [
    "b.dtype"
   ]
  },
  {
   "cell_type": "code",
   "execution_count": 83,
   "id": "d9246d2b-3c15-4d6b-a6e3-8ffaf2c1a354",
   "metadata": {},
   "outputs": [
    {
     "data": {
      "text/plain": [
       "('v', 56)"
      ]
     },
     "execution_count": 83,
     "metadata": {},
     "output_type": "execute_result"
    }
   ],
   "source": [
    "c"
   ]
  },
  {
   "cell_type": "code",
   "execution_count": 84,
   "id": "176260fd-a05b-4b9d-9238-d9d4501c83e8",
   "metadata": {},
   "outputs": [
    {
     "data": {
      "text/plain": [
       "tuple"
      ]
     },
     "execution_count": 84,
     "metadata": {},
     "output_type": "execute_result"
    }
   ],
   "source": [
    "type(c)"
   ]
  },
  {
   "cell_type": "code",
   "execution_count": 85,
   "id": "78eb27ff-16a9-41d1-aef0-b7431ca9ddad",
   "metadata": {},
   "outputs": [
    {
     "data": {
      "text/plain": [
       "numpy.ndarray"
      ]
     },
     "execution_count": 85,
     "metadata": {},
     "output_type": "execute_result"
    }
   ],
   "source": [
    "type(a)"
   ]
  },
  {
   "cell_type": "code",
   "execution_count": 86,
   "id": "dc1a2c6f-3ccb-4689-9925-3f8fe5fbec1b",
   "metadata": {},
   "outputs": [
    {
     "data": {
      "text/plain": [
       "numpy.ndarray"
      ]
     },
     "execution_count": 86,
     "metadata": {},
     "output_type": "execute_result"
    }
   ],
   "source": [
    "type(b)"
   ]
  },
  {
   "cell_type": "code",
   "execution_count": 87,
   "id": "e5669d81-4e44-4741-b155-6f5bda413529",
   "metadata": {},
   "outputs": [
    {
     "data": {
      "text/plain": [
       "array(['a', 'b', 'v'], dtype='<U1')"
      ]
     },
     "execution_count": 87,
     "metadata": {},
     "output_type": "execute_result"
    }
   ],
   "source": [
    "a[:]"
   ]
  },
  {
   "cell_type": "code",
   "execution_count": 88,
   "id": "40271c2c-cf9b-4ba7-8726-69c338bcb395",
   "metadata": {},
   "outputs": [
    {
     "data": {
      "text/plain": [
       "array(['b', 'v'], dtype='<U1')"
      ]
     },
     "execution_count": 88,
     "metadata": {},
     "output_type": "execute_result"
    }
   ],
   "source": [
    "a[1:]"
   ]
  },
  {
   "cell_type": "code",
   "execution_count": 89,
   "id": "1364de69-5cee-433c-aa6c-ee9bcde549b7",
   "metadata": {},
   "outputs": [
    {
     "data": {
      "text/plain": [
       "array([ 24,  56, 345])"
      ]
     },
     "execution_count": 89,
     "metadata": {},
     "output_type": "execute_result"
    }
   ],
   "source": [
    "b[1:]"
   ]
  },
  {
   "cell_type": "code",
   "execution_count": 90,
   "id": "a9235301-cfda-4cdc-b119-c4e70a7bbee6",
   "metadata": {},
   "outputs": [
    {
     "data": {
      "text/plain": [
       "array([12, 56])"
      ]
     },
     "execution_count": 90,
     "metadata": {},
     "output_type": "execute_result"
    }
   ],
   "source": [
    "b[::2]"
   ]
  },
  {
   "cell_type": "code",
   "execution_count": 91,
   "id": "441f2ee8-438b-43ad-bd2b-08e866301ea4",
   "metadata": {},
   "outputs": [
    {
     "data": {
      "text/plain": [
       "array([ 12,  24,  56, 345])"
      ]
     },
     "execution_count": 91,
     "metadata": {},
     "output_type": "execute_result"
    }
   ],
   "source": [
    "b"
   ]
  },
  {
   "cell_type": "code",
   "execution_count": 92,
   "id": "fe031c13-51d4-41c0-afc5-ac59a62af18d",
   "metadata": {},
   "outputs": [
    {
     "data": {
      "text/plain": [
       "345"
      ]
     },
     "execution_count": 92,
     "metadata": {},
     "output_type": "execute_result"
    }
   ],
   "source": [
    "b[-1]"
   ]
  },
  {
   "cell_type": "code",
   "execution_count": 93,
   "id": "1013fb07-1ae1-4b84-85ad-0bc85cd2a1bb",
   "metadata": {},
   "outputs": [
    {
     "data": {
      "text/plain": [
       "56"
      ]
     },
     "execution_count": 93,
     "metadata": {},
     "output_type": "execute_result"
    }
   ],
   "source": [
    "b[-2]"
   ]
  },
  {
   "cell_type": "code",
   "execution_count": 94,
   "id": "e312e758-9fbb-4d0e-92dc-35bd42a75a91",
   "metadata": {},
   "outputs": [
    {
     "data": {
      "text/plain": [
       "array([345,  56,  24,  12])"
      ]
     },
     "execution_count": 94,
     "metadata": {},
     "output_type": "execute_result"
    }
   ],
   "source": [
    "b[::-1]"
   ]
  },
  {
   "cell_type": "code",
   "execution_count": 95,
   "id": "b8390b6d-b02a-4d9b-891d-2ea9c3409545",
   "metadata": {},
   "outputs": [
    {
     "data": {
      "text/plain": [
       "(12, 56, 24)"
      ]
     },
     "execution_count": 95,
     "metadata": {},
     "output_type": "execute_result"
    }
   ],
   "source": [
    "b[0],b[2],b[1]"
   ]
  },
  {
   "cell_type": "code",
   "execution_count": 96,
   "id": "1ec80f09-1ffc-4cc9-82eb-80c0d890e2ba",
   "metadata": {},
   "outputs": [
    {
     "data": {
      "text/plain": [
       "array([12, 56, 24])"
      ]
     },
     "execution_count": 96,
     "metadata": {},
     "output_type": "execute_result"
    }
   ],
   "source": [
    "b[[0,2,1]]"
   ]
  },
  {
   "cell_type": "code",
   "execution_count": 97,
   "id": "2867c5b5-906e-4cb0-9854-b75de19f69c1",
   "metadata": {},
   "outputs": [
    {
     "data": {
      "text/plain": [
       "array(['a', 'b', 'v'], dtype='<U1')"
      ]
     },
     "execution_count": 97,
     "metadata": {},
     "output_type": "execute_result"
    }
   ],
   "source": [
    "a"
   ]
  },
  {
   "cell_type": "code",
   "execution_count": 98,
   "id": "558274b8-f030-4978-8044-ef2719ca1bf4",
   "metadata": {},
   "outputs": [],
   "source": [
    "d = np.array([1.5,2.6,4.6,5.6])"
   ]
  },
  {
   "cell_type": "code",
   "execution_count": 99,
   "id": "46fe1880-8689-4e7f-a613-61101aaae0ed",
   "metadata": {},
   "outputs": [
    {
     "data": {
      "text/plain": [
       "array([1.5, 2.6, 4.6, 5.6])"
      ]
     },
     "execution_count": 99,
     "metadata": {},
     "output_type": "execute_result"
    }
   ],
   "source": [
    "d"
   ]
  },
  {
   "cell_type": "code",
   "execution_count": 100,
   "id": "1f24f2f5-1994-4016-8cfa-2d6ae887d235",
   "metadata": {},
   "outputs": [
    {
     "data": {
      "text/plain": [
       "dtype('float64')"
      ]
     },
     "execution_count": 100,
     "metadata": {},
     "output_type": "execute_result"
    }
   ],
   "source": [
    "d.dtype"
   ]
  },
  {
   "cell_type": "code",
   "execution_count": 101,
   "id": "c9a4616d-8c80-4efc-8995-9cb330130175",
   "metadata": {},
   "outputs": [],
   "source": [
    "A = np.array([\n",
    "    [1,2,3],\n",
    "    [4,5,6]\n",
    "])"
   ]
  },
  {
   "cell_type": "code",
   "execution_count": 102,
   "id": "a9bf74bd-e61d-4ffb-853f-a456dd2184df",
   "metadata": {},
   "outputs": [
    {
     "data": {
      "text/plain": [
       "array([[1, 2, 3],\n",
       "       [4, 5, 6]])"
      ]
     },
     "execution_count": 102,
     "metadata": {},
     "output_type": "execute_result"
    }
   ],
   "source": [
    "A"
   ]
  },
  {
   "cell_type": "code",
   "execution_count": 103,
   "id": "25e9a684-632e-4266-bb52-f48e78c50e39",
   "metadata": {},
   "outputs": [
    {
     "data": {
      "text/plain": [
       "dtype('int32')"
      ]
     },
     "execution_count": 103,
     "metadata": {},
     "output_type": "execute_result"
    }
   ],
   "source": [
    "A.dtype"
   ]
  },
  {
   "cell_type": "code",
   "execution_count": 104,
   "id": "7b267a02-e931-4e18-baa6-0d458a953144",
   "metadata": {},
   "outputs": [
    {
     "data": {
      "text/plain": [
       "(2, 3)"
      ]
     },
     "execution_count": 104,
     "metadata": {},
     "output_type": "execute_result"
    }
   ],
   "source": [
    "A.shape"
   ]
  },
  {
   "cell_type": "code",
   "execution_count": 105,
   "id": "659f348a-3592-461c-ae6b-3ec3f8ddefaf",
   "metadata": {},
   "outputs": [
    {
     "data": {
      "text/plain": [
       "2"
      ]
     },
     "execution_count": 105,
     "metadata": {},
     "output_type": "execute_result"
    }
   ],
   "source": [
    "A.ndim"
   ]
  },
  {
   "cell_type": "code",
   "execution_count": 106,
   "id": "d65f6e5f-1344-4901-b7c6-7652564de643",
   "metadata": {},
   "outputs": [],
   "source": [
    "B = np.array([\n",
    "    [\n",
    "        [1,2,3],\n",
    "        [4,5,6]\n",
    "    ],\n",
    "    [\n",
    "        [12,23,34],\n",
    "        [45,56,67]\n",
    "    ]\n",
    "])"
   ]
  },
  {
   "cell_type": "code",
   "execution_count": 107,
   "id": "2c639ec7-ba96-4e28-b8dd-22f097c85f45",
   "metadata": {},
   "outputs": [
    {
     "data": {
      "text/plain": [
       "(2, 2, 3)"
      ]
     },
     "execution_count": 107,
     "metadata": {},
     "output_type": "execute_result"
    }
   ],
   "source": [
    "B.shape"
   ]
  },
  {
   "cell_type": "code",
   "execution_count": 108,
   "id": "e4834d74-7090-4720-92ac-4982d88b5c0b",
   "metadata": {},
   "outputs": [
    {
     "data": {
      "text/plain": [
       "array([[[ 1,  2,  3],\n",
       "        [ 4,  5,  6]],\n",
       "\n",
       "       [[12, 23, 34],\n",
       "        [45, 56, 67]]])"
      ]
     },
     "execution_count": 108,
     "metadata": {},
     "output_type": "execute_result"
    }
   ],
   "source": [
    "B"
   ]
  },
  {
   "cell_type": "code",
   "execution_count": 109,
   "id": "d2af1189-b726-45dd-b9d5-6c5ddc0c39e1",
   "metadata": {},
   "outputs": [
    {
     "data": {
      "text/plain": [
       "3"
      ]
     },
     "execution_count": 109,
     "metadata": {},
     "output_type": "execute_result"
    }
   ],
   "source": [
    "B.ndim"
   ]
  },
  {
   "cell_type": "code",
   "execution_count": 110,
   "id": "fdf106ba-e555-4083-bb4e-c19e7cced08a",
   "metadata": {},
   "outputs": [],
   "source": [
    "X= np.array(2)"
   ]
  },
  {
   "cell_type": "code",
   "execution_count": 111,
   "id": "30a27701-841b-401b-80c3-3d9c002e1983",
   "metadata": {},
   "outputs": [
    {
     "data": {
      "text/plain": [
       "array(2)"
      ]
     },
     "execution_count": 111,
     "metadata": {},
     "output_type": "execute_result"
    }
   ],
   "source": [
    "X"
   ]
  },
  {
   "cell_type": "code",
   "execution_count": 112,
   "id": "a7b97017-faae-4160-b9d9-1af0a269dba0",
   "metadata": {},
   "outputs": [
    {
     "ename": "TypeError",
     "evalue": "array() takes from 1 to 2 positional arguments but 3 were given",
     "output_type": "error",
     "traceback": [
      "\u001b[1;31m---------------------------------------------------------------------------\u001b[0m",
      "\u001b[1;31mTypeError\u001b[0m                                 Traceback (most recent call last)",
      "Cell \u001b[1;32mIn[112], line 1\u001b[0m\n\u001b[1;32m----> 1\u001b[0m y \u001b[38;5;241m=\u001b[39m np\u001b[38;5;241m.\u001b[39marray(\u001b[38;5;241m1\u001b[39m,\u001b[38;5;241m2\u001b[39m,\u001b[38;5;241m3\u001b[39m)\n",
      "\u001b[1;31mTypeError\u001b[0m: array() takes from 1 to 2 positional arguments but 3 were given"
     ]
    }
   ],
   "source": [
    "y = np.array(1,2,3)"
   ]
  },
  {
   "cell_type": "code",
   "execution_count": 113,
   "id": "3c1e316e-d4c7-49dd-89e5-6766fb65c66b",
   "metadata": {},
   "outputs": [],
   "source": [
    "Y = np.array([1,2,3])"
   ]
  },
  {
   "cell_type": "code",
   "execution_count": 114,
   "id": "a4405f5d-2968-4111-bdea-6710b54c472d",
   "metadata": {},
   "outputs": [
    {
     "data": {
      "text/plain": [
       "dtype('int32')"
      ]
     },
     "execution_count": 114,
     "metadata": {},
     "output_type": "execute_result"
    }
   ],
   "source": [
    "X.dtype"
   ]
  },
  {
   "cell_type": "code",
   "execution_count": 115,
   "id": "27aef0f5-7c43-427f-9067-09471a10026b",
   "metadata": {},
   "outputs": [
    {
     "data": {
      "text/plain": [
       "0"
      ]
     },
     "execution_count": 115,
     "metadata": {},
     "output_type": "execute_result"
    }
   ],
   "source": [
    "X.ndim"
   ]
  },
  {
   "cell_type": "code",
   "execution_count": 116,
   "id": "926f78f5-ce7a-491e-9298-aa54e98eb330",
   "metadata": {},
   "outputs": [
    {
     "data": {
      "text/plain": [
       "1"
      ]
     },
     "execution_count": 116,
     "metadata": {},
     "output_type": "execute_result"
    }
   ],
   "source": [
    "Y.ndim"
   ]
  },
  {
   "cell_type": "code",
   "execution_count": 117,
   "id": "37af5875-2567-44a4-bb0c-5adc30d4052d",
   "metadata": {},
   "outputs": [
    {
     "data": {
      "text/plain": [
       "array([1, 2, 3])"
      ]
     },
     "execution_count": 117,
     "metadata": {},
     "output_type": "execute_result"
    }
   ],
   "source": [
    "Y"
   ]
  },
  {
   "cell_type": "code",
   "execution_count": 118,
   "id": "f61eac89-4b80-4571-871e-7a6b307085d7",
   "metadata": {},
   "outputs": [],
   "source": [
    "Z = np.array([[1,2,3], [4,5,6], [7,8,9]])"
   ]
  },
  {
   "cell_type": "code",
   "execution_count": 119,
   "id": "aa3e4f1b-7e65-4b5d-aa56-e4e3cf004417",
   "metadata": {},
   "outputs": [
    {
     "data": {
      "text/plain": [
       "array([[1, 2, 3],\n",
       "       [4, 5, 6],\n",
       "       [7, 8, 9]])"
      ]
     },
     "execution_count": 119,
     "metadata": {},
     "output_type": "execute_result"
    }
   ],
   "source": [
    "Z"
   ]
  },
  {
   "cell_type": "code",
   "execution_count": 120,
   "id": "9e07142f-7a96-4fd9-9c81-1cb8097e5f45",
   "metadata": {},
   "outputs": [
    {
     "data": {
      "text/plain": [
       "2"
      ]
     },
     "execution_count": 120,
     "metadata": {},
     "output_type": "execute_result"
    }
   ],
   "source": [
    "Z.ndim"
   ]
  },
  {
   "cell_type": "code",
   "execution_count": 121,
   "id": "dafe5f70-88e2-44fc-a901-266a568448cc",
   "metadata": {},
   "outputs": [
    {
     "data": {
      "text/plain": [
       "(3, 3)"
      ]
     },
     "execution_count": 121,
     "metadata": {},
     "output_type": "execute_result"
    }
   ],
   "source": [
    "Z.shape"
   ]
  },
  {
   "cell_type": "code",
   "execution_count": 122,
   "id": "877d1f3b-600f-4c65-ab77-bf884f094380",
   "metadata": {},
   "outputs": [],
   "source": [
    "z=np.array([[[[[1,2,3], [4,5,6], [7,8,9]]]]])"
   ]
  },
  {
   "cell_type": "code",
   "execution_count": 123,
   "id": "a2469069-9053-49cf-95c0-18aa99b2f6d2",
   "metadata": {},
   "outputs": [
    {
     "data": {
      "text/plain": [
       "5"
      ]
     },
     "execution_count": 123,
     "metadata": {},
     "output_type": "execute_result"
    }
   ],
   "source": [
    "z.ndim"
   ]
  },
  {
   "cell_type": "code",
   "execution_count": 124,
   "id": "615f7588-6d96-4dc8-9316-a2fe4f7bf4e6",
   "metadata": {},
   "outputs": [
    {
     "data": {
      "text/plain": [
       "(1, 1, 1, 3, 3)"
      ]
     },
     "execution_count": 124,
     "metadata": {},
     "output_type": "execute_result"
    }
   ],
   "source": [
    "z.shape"
   ]
  },
  {
   "cell_type": "code",
   "execution_count": 125,
   "id": "1ed0f753-6816-494b-b035-b7ea2eabc2d5",
   "metadata": {},
   "outputs": [],
   "source": [
    "B = np.array([\n",
    "    [\n",
    "        [12,3,4,5],\n",
    "        [345,5,42,2]\n",
    "    ],\n",
    "    [\n",
    "        [67,12,87,86],\n",
    "        [234,768,98,546]\n",
    "    ]\n",
    "])"
   ]
  },
  {
   "cell_type": "code",
   "execution_count": 126,
   "id": "2af510fa-8d07-4d1c-be47-9d55f6ba5a05",
   "metadata": {},
   "outputs": [
    {
     "data": {
      "text/plain": [
       "(2, 2, 4)"
      ]
     },
     "execution_count": 126,
     "metadata": {},
     "output_type": "execute_result"
    }
   ],
   "source": [
    "B.shape\n"
   ]
  },
  {
   "cell_type": "code",
   "execution_count": 127,
   "id": "e63ae2ca-fd2c-4000-9278-b69c68179d81",
   "metadata": {},
   "outputs": [
    {
     "data": {
      "text/plain": [
       "3"
      ]
     },
     "execution_count": 127,
     "metadata": {},
     "output_type": "execute_result"
    }
   ],
   "source": [
    "B.ndim"
   ]
  },
  {
   "cell_type": "code",
   "execution_count": 128,
   "id": "a78841ff-8d89-4995-a1df-724998a9b4bb",
   "metadata": {},
   "outputs": [
    {
     "data": {
      "text/plain": [
       "16"
      ]
     },
     "execution_count": 128,
     "metadata": {},
     "output_type": "execute_result"
    }
   ],
   "source": [
    "B.size"
   ]
  },
  {
   "cell_type": "code",
   "execution_count": 129,
   "id": "97b65aac-c780-4e35-8343-fb35bdcfe74d",
   "metadata": {},
   "outputs": [
    {
     "ename": "ValueError",
     "evalue": "setting an array element with a sequence. The requested array has an inhomogeneous shape after 1 dimensions. The detected shape was (2,) + inhomogeneous part.",
     "output_type": "error",
     "traceback": [
      "\u001b[1;31m---------------------------------------------------------------------------\u001b[0m",
      "\u001b[1;31mValueError\u001b[0m                                Traceback (most recent call last)",
      "Cell \u001b[1;32mIn[129], line 1\u001b[0m\n\u001b[1;32m----> 1\u001b[0m C \u001b[38;5;241m=\u001b[39m np\u001b[38;5;241m.\u001b[39marray([\n\u001b[0;32m      2\u001b[0m     [\n\u001b[0;32m      3\u001b[0m         [\u001b[38;5;241m12\u001b[39m,\u001b[38;5;241m3\u001b[39m,\u001b[38;5;241m4\u001b[39m,\u001b[38;5;241m5\u001b[39m],\n\u001b[0;32m      4\u001b[0m         [\u001b[38;5;241m345\u001b[39m,\u001b[38;5;241m5\u001b[39m,\u001b[38;5;241m42\u001b[39m,\u001b[38;5;241m2\u001b[39m]\n\u001b[0;32m      5\u001b[0m     ],\n\u001b[0;32m      6\u001b[0m     [\n\u001b[0;32m      7\u001b[0m         [\u001b[38;5;241m67\u001b[39m,\u001b[38;5;241m12\u001b[39m,\u001b[38;5;241m87\u001b[39m,\u001b[38;5;241m86\u001b[39m]\n\u001b[0;32m      8\u001b[0m     ]\n\u001b[0;32m      9\u001b[0m ])\n",
      "\u001b[1;31mValueError\u001b[0m: setting an array element with a sequence. The requested array has an inhomogeneous shape after 1 dimensions. The detected shape was (2,) + inhomogeneous part."
     ]
    }
   ],
   "source": [
    "C = np.array([\n",
    "    [\n",
    "        [12,3,4,5],\n",
    "        [345,5,42,2]\n",
    "    ],\n",
    "    [\n",
    "        [67,12,87,86]\n",
    "    ]\n",
    "])"
   ]
  },
  {
   "cell_type": "code",
   "execution_count": 130,
   "id": "26990a5c-ba29-44da-8bc3-bb1e9dd6952a",
   "metadata": {},
   "outputs": [],
   "source": [
    "A = np.array([\n",
    "    [1,2,3],\n",
    "    [4,5,6],\n",
    "    [7,8,9]\n",
    "])"
   ]
  },
  {
   "cell_type": "code",
   "execution_count": 131,
   "id": "4199d670-0bc4-4262-a459-7407bbe47e88",
   "metadata": {},
   "outputs": [
    {
     "data": {
      "text/plain": [
       "2"
      ]
     },
     "execution_count": 131,
     "metadata": {},
     "output_type": "execute_result"
    }
   ],
   "source": [
    "A[0][1]"
   ]
  },
  {
   "cell_type": "code",
   "execution_count": 132,
   "id": "30b0d695-28ae-4b60-85a9-7729564ae509",
   "metadata": {},
   "outputs": [
    {
     "data": {
      "text/plain": [
       "2"
      ]
     },
     "execution_count": 132,
     "metadata": {},
     "output_type": "execute_result"
    }
   ],
   "source": [
    "A[0,1]"
   ]
  },
  {
   "cell_type": "code",
   "execution_count": 133,
   "id": "ac68a46d-ba26-4e09-b9f2-517505933fa7",
   "metadata": {},
   "outputs": [
    {
     "data": {
      "text/plain": [
       "array([[1, 2, 3],\n",
       "       [4, 5, 6]])"
      ]
     },
     "execution_count": 133,
     "metadata": {},
     "output_type": "execute_result"
    }
   ],
   "source": [
    "A[0:2]"
   ]
  },
  {
   "cell_type": "code",
   "execution_count": 134,
   "id": "b4b69e0b-99e2-4004-9168-519c41498805",
   "metadata": {},
   "outputs": [
    {
     "data": {
      "text/plain": [
       "array([[1, 2],\n",
       "       [4, 5],\n",
       "       [7, 8]])"
      ]
     },
     "execution_count": 134,
     "metadata": {},
     "output_type": "execute_result"
    }
   ],
   "source": [
    "A[:,:2]"
   ]
  },
  {
   "cell_type": "code",
   "execution_count": 135,
   "id": "7424ef62-0e95-4270-a38f-33681717685c",
   "metadata": {},
   "outputs": [
    {
     "data": {
      "text/plain": [
       "array([[1, 2, 3],\n",
       "       [4, 5, 6],\n",
       "       [7, 8, 9]])"
      ]
     },
     "execution_count": 135,
     "metadata": {},
     "output_type": "execute_result"
    }
   ],
   "source": [
    "A"
   ]
  },
  {
   "cell_type": "code",
   "execution_count": 136,
   "id": "5733ff46-47df-4a7d-87af-d20e7add934a",
   "metadata": {},
   "outputs": [
    {
     "data": {
      "text/plain": [
       "array([4, 5, 6])"
      ]
     },
     "execution_count": 136,
     "metadata": {},
     "output_type": "execute_result"
    }
   ],
   "source": [
    "A[1]"
   ]
  },
  {
   "cell_type": "code",
   "execution_count": 137,
   "id": "a80af248-02fd-44ef-b6fc-15cddfbbf80f",
   "metadata": {},
   "outputs": [],
   "source": [
    "A[1]  = np.array([10,10,10])"
   ]
  },
  {
   "cell_type": "code",
   "execution_count": 138,
   "id": "dd2c7622-5af9-43d9-90e6-e295277f044d",
   "metadata": {},
   "outputs": [
    {
     "data": {
      "text/plain": [
       "array([[ 1,  2,  3],\n",
       "       [10, 10, 10],\n",
       "       [ 7,  8,  9]])"
      ]
     },
     "execution_count": 138,
     "metadata": {},
     "output_type": "execute_result"
    }
   ],
   "source": [
    "A"
   ]
  },
  {
   "cell_type": "code",
   "execution_count": 139,
   "id": "1838f12f-eaf3-44c9-a902-63208f7b8364",
   "metadata": {},
   "outputs": [],
   "source": [
    "A[2] = 99"
   ]
  },
  {
   "cell_type": "code",
   "execution_count": 140,
   "id": "fb255b52-fd2d-41f8-a267-e87819d92ab2",
   "metadata": {},
   "outputs": [
    {
     "data": {
      "text/plain": [
       "array([[ 1,  2,  3],\n",
       "       [10, 10, 10],\n",
       "       [99, 99, 99]])"
      ]
     },
     "execution_count": 140,
     "metadata": {},
     "output_type": "execute_result"
    }
   ],
   "source": [
    "A"
   ]
  },
  {
   "cell_type": "code",
   "execution_count": 141,
   "id": "6ccc9eb5-52a4-4737-b907-6cd8e76dc58a",
   "metadata": {},
   "outputs": [],
   "source": [
    "a = np.array([1,2,3,4])"
   ]
  },
  {
   "cell_type": "code",
   "execution_count": 142,
   "id": "7a0b10d7-ccc9-4a30-b261-f0d051bb623b",
   "metadata": {},
   "outputs": [
    {
     "data": {
      "text/plain": [
       "10"
      ]
     },
     "execution_count": 142,
     "metadata": {},
     "output_type": "execute_result"
    }
   ],
   "source": [
    "a.sum()"
   ]
  },
  {
   "cell_type": "code",
   "execution_count": 143,
   "id": "8dd1a751-11ee-4a2b-b4bb-a65995862557",
   "metadata": {},
   "outputs": [
    {
     "data": {
      "text/plain": [
       "2.5"
      ]
     },
     "execution_count": 143,
     "metadata": {},
     "output_type": "execute_result"
    }
   ],
   "source": [
    "a.mean()"
   ]
  },
  {
   "cell_type": "code",
   "execution_count": 144,
   "id": "3a047777-849d-4b7a-833f-845486898dbc",
   "metadata": {},
   "outputs": [
    {
     "data": {
      "text/plain": [
       "1.118033988749895"
      ]
     },
     "execution_count": 144,
     "metadata": {},
     "output_type": "execute_result"
    }
   ],
   "source": [
    "a.std()"
   ]
  },
  {
   "cell_type": "code",
   "execution_count": 145,
   "id": "bffb0f10-74d5-4fa0-9a19-1a78cb83bd6b",
   "metadata": {},
   "outputs": [
    {
     "data": {
      "text/plain": [
       "1.25"
      ]
     },
     "execution_count": 145,
     "metadata": {},
     "output_type": "execute_result"
    }
   ],
   "source": [
    "a.var()"
   ]
  },
  {
   "cell_type": "code",
   "execution_count": 146,
   "id": "b6678916-84d2-487b-8e98-654d4878ae1e",
   "metadata": {},
   "outputs": [
    {
     "data": {
      "text/plain": [
       "array([[ 1,  2,  3],\n",
       "       [10, 10, 10],\n",
       "       [99, 99, 99]])"
      ]
     },
     "execution_count": 146,
     "metadata": {},
     "output_type": "execute_result"
    }
   ],
   "source": [
    "A "
   ]
  },
  {
   "cell_type": "code",
   "execution_count": 147,
   "id": "3647ffb3-7080-4343-ae81-1997c0e456c0",
   "metadata": {},
   "outputs": [
    {
     "data": {
      "text/plain": [
       "333"
      ]
     },
     "execution_count": 147,
     "metadata": {},
     "output_type": "execute_result"
    }
   ],
   "source": [
    "A.sum()"
   ]
  },
  {
   "cell_type": "code",
   "execution_count": 148,
   "id": "8fd33b64-15f9-4bcb-afd9-7067d838c028",
   "metadata": {},
   "outputs": [
    {
     "data": {
      "text/plain": [
       "37.0"
      ]
     },
     "execution_count": 148,
     "metadata": {},
     "output_type": "execute_result"
    }
   ],
   "source": [
    "A.mean()"
   ]
  },
  {
   "cell_type": "code",
   "execution_count": 149,
   "id": "4c7b5099-70c3-48be-9a63-c79a151ae25d",
   "metadata": {},
   "outputs": [
    {
     "data": {
      "text/plain": [
       "43.96463225012679"
      ]
     },
     "execution_count": 149,
     "metadata": {},
     "output_type": "execute_result"
    }
   ],
   "source": [
    "A.std()"
   ]
  },
  {
   "cell_type": "code",
   "execution_count": 150,
   "id": "1e823461-5dbe-4414-8a55-efb99ec4ece3",
   "metadata": {},
   "outputs": [
    {
     "data": {
      "text/plain": [
       "array([110, 111, 112])"
      ]
     },
     "execution_count": 150,
     "metadata": {},
     "output_type": "execute_result"
    }
   ],
   "source": [
    "A.sum(axis = 0)"
   ]
  },
  {
   "cell_type": "code",
   "execution_count": 151,
   "id": "1f5588ed-ba1b-4557-b043-24bc4a162fb0",
   "metadata": {},
   "outputs": [
    {
     "data": {
      "text/plain": [
       "array([[ 1,  2,  3],\n",
       "       [10, 10, 10],\n",
       "       [99, 99, 99]])"
      ]
     },
     "execution_count": 151,
     "metadata": {},
     "output_type": "execute_result"
    }
   ],
   "source": [
    "A"
   ]
  },
  {
   "cell_type": "code",
   "execution_count": 152,
   "id": "1201ec7f-80b7-4a5f-96fe-c947f839ccce",
   "metadata": {},
   "outputs": [
    {
     "data": {
      "text/plain": [
       "array([  6,  30, 297])"
      ]
     },
     "execution_count": 152,
     "metadata": {},
     "output_type": "execute_result"
    }
   ],
   "source": [
    "A.sum(axis = 1)"
   ]
  },
  {
   "cell_type": "code",
   "execution_count": 153,
   "id": "a3daf89b-f376-452d-bf4b-79ca97f9d33f",
   "metadata": {},
   "outputs": [
    {
     "ename": "AxisError",
     "evalue": "axis 2 is out of bounds for array of dimension 2",
     "output_type": "error",
     "traceback": [
      "\u001b[1;31m---------------------------------------------------------------------------\u001b[0m",
      "\u001b[1;31mAxisError\u001b[0m                                 Traceback (most recent call last)",
      "Cell \u001b[1;32mIn[153], line 1\u001b[0m\n\u001b[1;32m----> 1\u001b[0m A\u001b[38;5;241m.\u001b[39msum(axis \u001b[38;5;241m=\u001b[39m \u001b[38;5;241m2\u001b[39m)\n",
      "File \u001b[1;32m~\\anaconda3\\Lib\\site-packages\\numpy\\core\\_methods.py:49\u001b[0m, in \u001b[0;36m_sum\u001b[1;34m(a, axis, dtype, out, keepdims, initial, where)\u001b[0m\n\u001b[0;32m     47\u001b[0m \u001b[38;5;28;01mdef\u001b[39;00m \u001b[38;5;21m_sum\u001b[39m(a, axis\u001b[38;5;241m=\u001b[39m\u001b[38;5;28;01mNone\u001b[39;00m, dtype\u001b[38;5;241m=\u001b[39m\u001b[38;5;28;01mNone\u001b[39;00m, out\u001b[38;5;241m=\u001b[39m\u001b[38;5;28;01mNone\u001b[39;00m, keepdims\u001b[38;5;241m=\u001b[39m\u001b[38;5;28;01mFalse\u001b[39;00m,\n\u001b[0;32m     48\u001b[0m          initial\u001b[38;5;241m=\u001b[39m_NoValue, where\u001b[38;5;241m=\u001b[39m\u001b[38;5;28;01mTrue\u001b[39;00m):\n\u001b[1;32m---> 49\u001b[0m     \u001b[38;5;28;01mreturn\u001b[39;00m umr_sum(a, axis, dtype, out, keepdims, initial, where)\n",
      "\u001b[1;31mAxisError\u001b[0m: axis 2 is out of bounds for array of dimension 2"
     ]
    }
   ],
   "source": [
    "A.sum(axis = 2)"
   ]
  },
  {
   "cell_type": "code",
   "execution_count": 154,
   "id": "c7b89598-4326-42ad-91d6-0784d4767ad3",
   "metadata": {},
   "outputs": [
    {
     "data": {
      "text/plain": [
       "array([[[ 12,   3,   4,   5],\n",
       "        [345,   5,  42,   2]],\n",
       "\n",
       "       [[ 67,  12,  87,  86],\n",
       "        [234, 768,  98, 546]]])"
      ]
     },
     "execution_count": 154,
     "metadata": {},
     "output_type": "execute_result"
    }
   ],
   "source": [
    "B "
   ]
  },
  {
   "cell_type": "code",
   "execution_count": 155,
   "id": "0909c687-8e22-4c73-ba3f-f1f143bbc6ea",
   "metadata": {},
   "outputs": [
    {
     "data": {
      "text/plain": [
       "2316"
      ]
     },
     "execution_count": 155,
     "metadata": {},
     "output_type": "execute_result"
    }
   ],
   "source": [
    "B.sum()"
   ]
  },
  {
   "cell_type": "code",
   "execution_count": 156,
   "id": "b2dc1393-1131-4f18-be6a-2fc9dfd8a99b",
   "metadata": {},
   "outputs": [
    {
     "data": {
      "text/plain": [
       "array([[ 79,  15,  91,  91],\n",
       "       [579, 773, 140, 548]])"
      ]
     },
     "execution_count": 156,
     "metadata": {},
     "output_type": "execute_result"
    }
   ],
   "source": [
    "B.sum(axis = 0)"
   ]
  },
  {
   "cell_type": "code",
   "execution_count": 157,
   "id": "2084f678-2fb8-444e-a5fa-23bddd98ae26",
   "metadata": {},
   "outputs": [
    {
     "data": {
      "text/plain": [
       "array([[357,   8,  46,   7],\n",
       "       [301, 780, 185, 632]])"
      ]
     },
     "execution_count": 157,
     "metadata": {},
     "output_type": "execute_result"
    }
   ],
   "source": [
    "B.sum(axis = 1)"
   ]
  },
  {
   "cell_type": "code",
   "execution_count": 158,
   "id": "9b94131c-e183-4695-ac7b-ba272b7671ce",
   "metadata": {},
   "outputs": [
    {
     "data": {
      "text/plain": [
       "array([[  24,  394],\n",
       "       [ 252, 1646]])"
      ]
     },
     "execution_count": 158,
     "metadata": {},
     "output_type": "execute_result"
    }
   ],
   "source": [
    "B.sum(axis = 2)"
   ]
  },
  {
   "cell_type": "code",
   "execution_count": 159,
   "id": "180fd647-db95-4d4f-8ae1-0119d245eac2",
   "metadata": {},
   "outputs": [
    {
     "data": {
      "text/plain": [
       "array([[  24,  394],\n",
       "       [ 252, 1646]])"
      ]
     },
     "execution_count": 159,
     "metadata": {},
     "output_type": "execute_result"
    }
   ],
   "source": [
    "B.sum(axis = -1)"
   ]
  },
  {
   "cell_type": "code",
   "execution_count": 160,
   "id": "7190c43f-3ccd-4914-9e07-95fe7d04715c",
   "metadata": {},
   "outputs": [
    {
     "data": {
      "text/plain": [
       "array([[357,   8,  46,   7],\n",
       "       [301, 780, 185, 632]])"
      ]
     },
     "execution_count": 160,
     "metadata": {},
     "output_type": "execute_result"
    }
   ],
   "source": [
    "B.sum(axis = -2)"
   ]
  },
  {
   "cell_type": "code",
   "execution_count": 161,
   "id": "5792b25a-77b6-4df6-b916-b49db15be36c",
   "metadata": {},
   "outputs": [
    {
     "data": {
      "text/plain": [
       "array([[ 79,  15,  91,  91],\n",
       "       [579, 773, 140, 548]])"
      ]
     },
     "execution_count": 161,
     "metadata": {},
     "output_type": "execute_result"
    }
   ],
   "source": [
    "B.sum(axis = -3)"
   ]
  },
  {
   "cell_type": "code",
   "execution_count": 162,
   "id": "09aaf8b7-5af8-4f25-a66a-42b41f2fbc86",
   "metadata": {},
   "outputs": [
    {
     "data": {
      "text/plain": [
       "array([[ 1,  2,  3],\n",
       "       [10, 10, 10],\n",
       "       [99, 99, 99]])"
      ]
     },
     "execution_count": 162,
     "metadata": {},
     "output_type": "execute_result"
    }
   ],
   "source": [
    "A"
   ]
  },
  {
   "cell_type": "code",
   "execution_count": 163,
   "id": "94420c63-9084-4e86-abf2-fab9c11afff1",
   "metadata": {},
   "outputs": [
    {
     "data": {
      "text/plain": [
       "array([36.66666667, 37.        , 37.33333333])"
      ]
     },
     "execution_count": 163,
     "metadata": {},
     "output_type": "execute_result"
    }
   ],
   "source": [
    "A.mean(axis = 0)"
   ]
  },
  {
   "cell_type": "code",
   "execution_count": 164,
   "id": "c6cd05d7-994f-4c6b-a63e-74e78b126181",
   "metadata": {},
   "outputs": [
    {
     "data": {
      "text/plain": [
       "37.0"
      ]
     },
     "execution_count": 164,
     "metadata": {},
     "output_type": "execute_result"
    }
   ],
   "source": [
    "A.mean()"
   ]
  },
  {
   "cell_type": "code",
   "execution_count": 165,
   "id": "e8f68031-abcf-4990-9d02-e083eb235d46",
   "metadata": {},
   "outputs": [],
   "source": [
    "a = np.arange(4)"
   ]
  },
  {
   "cell_type": "code",
   "execution_count": 166,
   "id": "6ec9caca-f06e-4ddd-9562-d3dfb410b33c",
   "metadata": {},
   "outputs": [
    {
     "data": {
      "text/plain": [
       "array([0, 1, 2, 3])"
      ]
     },
     "execution_count": 166,
     "metadata": {},
     "output_type": "execute_result"
    }
   ],
   "source": [
    "a"
   ]
  },
  {
   "cell_type": "code",
   "execution_count": 167,
   "id": "020640ae-9fea-45df-8840-597dd50babd8",
   "metadata": {},
   "outputs": [
    {
     "data": {
      "text/plain": [
       "array([10, 11, 12, 13])"
      ]
     },
     "execution_count": 167,
     "metadata": {},
     "output_type": "execute_result"
    }
   ],
   "source": [
    "a + 10"
   ]
  },
  {
   "cell_type": "code",
   "execution_count": 168,
   "id": "9694e088-fe71-4179-91b9-371a6a4c2ad0",
   "metadata": {},
   "outputs": [
    {
     "data": {
      "text/plain": [
       "array([ 0, 10, 20, 30])"
      ]
     },
     "execution_count": 168,
     "metadata": {},
     "output_type": "execute_result"
    }
   ],
   "source": [
    "a*10"
   ]
  },
  {
   "cell_type": "code",
   "execution_count": 169,
   "id": "6bf543e4-c0a7-4d4e-8251-68ff1d821dd2",
   "metadata": {},
   "outputs": [
    {
     "data": {
      "text/plain": [
       "array([0, 1, 2, 3])"
      ]
     },
     "execution_count": 169,
     "metadata": {},
     "output_type": "execute_result"
    }
   ],
   "source": [
    "a"
   ]
  },
  {
   "cell_type": "code",
   "execution_count": 170,
   "id": "3ec7ac51-0410-4a93-9f6d-7f5b41eb7ba4",
   "metadata": {},
   "outputs": [],
   "source": [
    "a+=10"
   ]
  },
  {
   "cell_type": "code",
   "execution_count": 171,
   "id": "46f4a074-7da7-4d4c-8599-51804f926f15",
   "metadata": {},
   "outputs": [
    {
     "data": {
      "text/plain": [
       "array([10, 11, 12, 13])"
      ]
     },
     "execution_count": 171,
     "metadata": {},
     "output_type": "execute_result"
    }
   ],
   "source": [
    "a"
   ]
  },
  {
   "cell_type": "code",
   "execution_count": 172,
   "id": "cdca2ad8-0090-4f4f-971f-367917670901",
   "metadata": {},
   "outputs": [
    {
     "data": {
      "text/plain": [
       "array([10, 11, 12, 13])"
      ]
     },
     "execution_count": 172,
     "metadata": {},
     "output_type": "execute_result"
    }
   ],
   "source": [
    "a"
   ]
  },
  {
   "cell_type": "code",
   "execution_count": 173,
   "id": "85e71ce4-3d68-4824-9808-e2abd0110673",
   "metadata": {},
   "outputs": [],
   "source": [
    "a = np.arange(5)"
   ]
  },
  {
   "cell_type": "code",
   "execution_count": 174,
   "id": "07e88bdd-7217-4256-9009-ab202aa07779",
   "metadata": {},
   "outputs": [],
   "source": [
    "b = np.arange(5,10)"
   ]
  },
  {
   "cell_type": "code",
   "execution_count": 175,
   "id": "5aae57d3-f8a1-4789-8c4d-9522ad7c9775",
   "metadata": {},
   "outputs": [
    {
     "data": {
      "text/plain": [
       "array([0, 1, 2, 3, 4])"
      ]
     },
     "execution_count": 175,
     "metadata": {},
     "output_type": "execute_result"
    }
   ],
   "source": [
    "a"
   ]
  },
  {
   "cell_type": "code",
   "execution_count": 176,
   "id": "d4d864a9-530a-4cbd-ae0a-5fd0038a014e",
   "metadata": {},
   "outputs": [
    {
     "data": {
      "text/plain": [
       "array([5, 6, 7, 8, 9])"
      ]
     },
     "execution_count": 176,
     "metadata": {},
     "output_type": "execute_result"
    }
   ],
   "source": [
    "b"
   ]
  },
  {
   "cell_type": "code",
   "execution_count": 177,
   "id": "8b2be58e-344d-4067-bdce-ab6d041b2968",
   "metadata": {},
   "outputs": [
    {
     "data": {
      "text/plain": [
       "array([ 5,  7,  9, 11, 13])"
      ]
     },
     "execution_count": 177,
     "metadata": {},
     "output_type": "execute_result"
    }
   ],
   "source": [
    "a+b"
   ]
  },
  {
   "cell_type": "code",
   "execution_count": 178,
   "id": "37e796ac-a9ca-4dff-a065-02cd403cd12f",
   "metadata": {},
   "outputs": [
    {
     "data": {
      "text/plain": [
       "array([ 0,  6, 14, 24, 36])"
      ]
     },
     "execution_count": 178,
     "metadata": {},
     "output_type": "execute_result"
    }
   ],
   "source": [
    "a*b"
   ]
  },
  {
   "cell_type": "code",
   "execution_count": 179,
   "id": "75e30209-3913-4e1a-8351-668b111e9f0d",
   "metadata": {},
   "outputs": [
    {
     "data": {
      "text/plain": [
       "(0, 1)"
      ]
     },
     "execution_count": 179,
     "metadata": {},
     "output_type": "execute_result"
    }
   ],
   "source": [
    "a[0],a[1]"
   ]
  },
  {
   "cell_type": "code",
   "execution_count": 180,
   "id": "f74bf5b0-925a-4402-86ab-79bdfafe2d45",
   "metadata": {},
   "outputs": [
    {
     "data": {
      "text/plain": [
       "array([0, 1])"
      ]
     },
     "execution_count": 180,
     "metadata": {},
     "output_type": "execute_result"
    }
   ],
   "source": [
    "a[[0,1]]"
   ]
  },
  {
   "cell_type": "code",
   "execution_count": 181,
   "id": "7d7aced8-7a09-4dc5-bccb-65d0a02b08d6",
   "metadata": {},
   "outputs": [
    {
     "data": {
      "text/plain": [
       "array([0, 4])"
      ]
     },
     "execution_count": 181,
     "metadata": {},
     "output_type": "execute_result"
    }
   ],
   "source": [
    "a[[0,-1]]"
   ]
  },
  {
   "cell_type": "code",
   "execution_count": 182,
   "id": "13ef409d-0a7e-42df-88ea-0f84f310868f",
   "metadata": {},
   "outputs": [
    {
     "data": {
      "text/plain": [
       "array([[ 1,  2,  3],\n",
       "       [10, 10, 10],\n",
       "       [99, 99, 99]])"
      ]
     },
     "execution_count": 182,
     "metadata": {},
     "output_type": "execute_result"
    }
   ],
   "source": [
    "A"
   ]
  },
  {
   "cell_type": "code",
   "execution_count": 183,
   "id": "2ec4076e-9492-454e-9f5c-450945ad1d46",
   "metadata": {},
   "outputs": [
    {
     "data": {
      "text/plain": [
       "2"
      ]
     },
     "execution_count": 183,
     "metadata": {},
     "output_type": "execute_result"
    }
   ],
   "source": [
    "A[0,1]"
   ]
  },
  {
   "cell_type": "code",
   "execution_count": 184,
   "id": "677d9645-ffaf-45ea-a02d-8cd9b11eb136",
   "metadata": {},
   "outputs": [
    {
     "data": {
      "text/plain": [
       "99"
      ]
     },
     "execution_count": 184,
     "metadata": {},
     "output_type": "execute_result"
    }
   ],
   "source": [
    "A[2,2]"
   ]
  },
  {
   "cell_type": "code",
   "execution_count": 185,
   "id": "cc321aaf-d1ea-4843-9301-63aeb46ba9f0",
   "metadata": {},
   "outputs": [
    {
     "data": {
      "text/plain": [
       "3"
      ]
     },
     "execution_count": 185,
     "metadata": {},
     "output_type": "execute_result"
    }
   ],
   "source": [
    "A[0,2]"
   ]
  },
  {
   "cell_type": "code",
   "execution_count": 186,
   "id": "a7226554-4f39-4c15-8256-1c2b59e69b16",
   "metadata": {},
   "outputs": [
    {
     "data": {
      "text/plain": [
       "array([0, 1, 2, 3, 4])"
      ]
     },
     "execution_count": 186,
     "metadata": {},
     "output_type": "execute_result"
    }
   ],
   "source": [
    "a"
   ]
  },
  {
   "cell_type": "code",
   "execution_count": 187,
   "id": "65fd46f6-f39d-43eb-8d51-baa9648124f0",
   "metadata": {},
   "outputs": [
    {
     "data": {
      "text/plain": [
       "array([0, 1, 4])"
      ]
     },
     "execution_count": 187,
     "metadata": {},
     "output_type": "execute_result"
    }
   ],
   "source": [
    "a[[True,True,False,False,True]]"
   ]
  },
  {
   "cell_type": "code",
   "execution_count": 188,
   "id": "4b2f410d-aa3f-443f-8edb-0cf3fa38fa7f",
   "metadata": {},
   "outputs": [
    {
     "ename": "IndexError",
     "evalue": "too many indices for array: array is 1-dimensional, but 3 were indexed",
     "output_type": "error",
     "traceback": [
      "\u001b[1;31m---------------------------------------------------------------------------\u001b[0m",
      "\u001b[1;31mIndexError\u001b[0m                                Traceback (most recent call last)",
      "Cell \u001b[1;32mIn[188], line 1\u001b[0m\n\u001b[1;32m----> 1\u001b[0m a[[a[\u001b[38;5;241m0\u001b[39m,\u001b[38;5;241m1\u001b[39m,\u001b[38;5;241m4\u001b[39m]]]\n",
      "\u001b[1;31mIndexError\u001b[0m: too many indices for array: array is 1-dimensional, but 3 were indexed"
     ]
    }
   ],
   "source": [
    "a[[a[0,1,4]]]"
   ]
  },
  {
   "cell_type": "code",
   "execution_count": 189,
   "id": "13bdb867-9dc1-4f97-a8f2-9c487fde3b8b",
   "metadata": {},
   "outputs": [
    {
     "ename": "NameError",
     "evalue": "name 'array' is not defined",
     "output_type": "error",
     "traceback": [
      "\u001b[1;31m---------------------------------------------------------------------------\u001b[0m",
      "\u001b[1;31mNameError\u001b[0m                                 Traceback (most recent call last)",
      "Cell \u001b[1;32mIn[189], line 1\u001b[0m\n\u001b[1;32m----> 1\u001b[0m a[array([\u001b[38;5;241m0\u001b[39m,\u001b[38;5;241m1\u001b[39m,\u001b[38;5;241m4\u001b[39m])]\n",
      "\u001b[1;31mNameError\u001b[0m: name 'array' is not defined"
     ]
    }
   ],
   "source": [
    "a[array([0,1,4])]"
   ]
  },
  {
   "cell_type": "code",
   "execution_count": 191,
   "id": "05ede364-47ee-4317-b43f-efa43d8f9ee7",
   "metadata": {},
   "outputs": [
    {
     "data": {
      "text/plain": [
       "array([0, 1, 2, 3, 4])"
      ]
     },
     "execution_count": 191,
     "metadata": {},
     "output_type": "execute_result"
    }
   ],
   "source": [
    "a"
   ]
  },
  {
   "cell_type": "code",
   "execution_count": 192,
   "id": "e7e94b2b-bc41-47a2-a511-a01097c791a2",
   "metadata": {},
   "outputs": [
    {
     "data": {
      "text/plain": [
       "array([False, False,  True,  True,  True])"
      ]
     },
     "execution_count": 192,
     "metadata": {},
     "output_type": "execute_result"
    }
   ],
   "source": [
    "a >= 2"
   ]
  },
  {
   "cell_type": "code",
   "execution_count": 193,
   "id": "c95407c4-9c88-4846-b8c8-2d53cec03a98",
   "metadata": {},
   "outputs": [
    {
     "data": {
      "text/plain": [
       "array([2, 3, 4])"
      ]
     },
     "execution_count": 193,
     "metadata": {},
     "output_type": "execute_result"
    }
   ],
   "source": [
    "a[a>=2]"
   ]
  },
  {
   "cell_type": "code",
   "execution_count": 194,
   "id": "29745bdf-6fc3-4180-aacd-187518174924",
   "metadata": {},
   "outputs": [
    {
     "ename": "TypeError",
     "evalue": "'builtin_function_or_method' object is not subscriptable",
     "output_type": "error",
     "traceback": [
      "\u001b[1;31m---------------------------------------------------------------------------\u001b[0m",
      "\u001b[1;31mTypeError\u001b[0m                                 Traceback (most recent call last)",
      "Cell \u001b[1;32mIn[194], line 1\u001b[0m\n\u001b[1;32m----> 1\u001b[0m a(np\u001b[38;5;241m.\u001b[39marray[\u001b[38;5;28;01mFalse\u001b[39;00m, \u001b[38;5;28;01mFalse\u001b[39;00m,  \u001b[38;5;28;01mTrue\u001b[39;00m,  \u001b[38;5;28;01mTrue\u001b[39;00m,  \u001b[38;5;28;01mTrue\u001b[39;00m])\n",
      "\u001b[1;31mTypeError\u001b[0m: 'builtin_function_or_method' object is not subscriptable"
     ]
    }
   ],
   "source": [
    "a(np.array[False, False,  True,  True,  True])"
   ]
  },
  {
   "cell_type": "code",
   "execution_count": 195,
   "id": "4cf426ab-c718-4489-9cc5-7a482ccebab1",
   "metadata": {},
   "outputs": [
    {
     "data": {
      "text/plain": [
       "array([2, 3, 4])"
      ]
     },
     "execution_count": 195,
     "metadata": {},
     "output_type": "execute_result"
    }
   ],
   "source": [
    "a[[False, False,  True,  True,  True]]"
   ]
  },
  {
   "cell_type": "code",
   "execution_count": 196,
   "id": "d9195d70-e6e7-4ee1-b204-c48fddf075a8",
   "metadata": {},
   "outputs": [
    {
     "data": {
      "text/plain": [
       "array([0, 1, 2, 3, 4])"
      ]
     },
     "execution_count": 196,
     "metadata": {},
     "output_type": "execute_result"
    }
   ],
   "source": [
    "a"
   ]
  },
  {
   "cell_type": "code",
   "execution_count": 197,
   "id": "fc263903-4d4e-4ffe-a924-3fbfb5a69873",
   "metadata": {},
   "outputs": [
    {
     "data": {
      "text/plain": [
       "2.0"
      ]
     },
     "execution_count": 197,
     "metadata": {},
     "output_type": "execute_result"
    }
   ],
   "source": [
    "a.mean()"
   ]
  },
  {
   "cell_type": "code",
   "execution_count": 198,
   "id": "d41da358-60db-4fd8-b41a-d1448b7d2460",
   "metadata": {},
   "outputs": [
    {
     "data": {
      "text/plain": [
       "array([3, 4])"
      ]
     },
     "execution_count": 198,
     "metadata": {},
     "output_type": "execute_result"
    }
   ],
   "source": [
    "a[a>a.mean()]"
   ]
  },
  {
   "cell_type": "code",
   "execution_count": 199,
   "id": "b7d8ad2f-3409-4143-ae09-68b752eb7518",
   "metadata": {},
   "outputs": [
    {
     "data": {
      "text/plain": [
       "array([0, 1, 2])"
      ]
     },
     "execution_count": 199,
     "metadata": {},
     "output_type": "execute_result"
    }
   ],
   "source": [
    "a[~(a>a.mean())]"
   ]
  },
  {
   "cell_type": "code",
   "execution_count": 200,
   "id": "fe5e8608-7f60-44f9-aac2-0e638c2ebfcb",
   "metadata": {},
   "outputs": [
    {
     "data": {
      "text/plain": [
       "array([0, 2])"
      ]
     },
     "execution_count": 200,
     "metadata": {},
     "output_type": "execute_result"
    }
   ],
   "source": [
    "a[(a<=2) & (a%2 == 0)]"
   ]
  },
  {
   "cell_type": "code",
   "execution_count": 201,
   "id": "b52d69fa-3ba8-4ff9-a59b-0a112377ddae",
   "metadata": {},
   "outputs": [
    {
     "data": {
      "text/plain": [
       "array([0, 1, 4])"
      ]
     },
     "execution_count": 201,
     "metadata": {},
     "output_type": "execute_result"
    }
   ],
   "source": [
    "a[(a<2) | (a == 4)]"
   ]
  },
  {
   "cell_type": "code",
   "execution_count": 202,
   "id": "0f2d777c-ce53-4d6a-abc8-f665cef2093c",
   "metadata": {},
   "outputs": [],
   "source": [
    "import random"
   ]
  },
  {
   "cell_type": "code",
   "execution_count": 203,
   "id": "f75c188e-ab48-4d8f-bd0c-65a9553d030a",
   "metadata": {},
   "outputs": [],
   "source": [
    "A = np.random.randint(100, size = (3,3))"
   ]
  },
  {
   "cell_type": "code",
   "execution_count": 204,
   "id": "de634a04-3646-4c56-b4a3-6734396e709b",
   "metadata": {},
   "outputs": [
    {
     "data": {
      "text/plain": [
       "array([[96, 67, 56],\n",
       "       [28, 49, 66],\n",
       "       [80, 89, 56]])"
      ]
     },
     "execution_count": 204,
     "metadata": {},
     "output_type": "execute_result"
    }
   ],
   "source": [
    "A"
   ]
  },
  {
   "cell_type": "code",
   "execution_count": 205,
   "id": "4da94021-05a4-4465-9254-be2e4fdf012d",
   "metadata": {},
   "outputs": [
    {
     "data": {
      "text/plain": [
       "array([[ True,  True,  True],\n",
       "       [False,  True,  True],\n",
       "       [ True,  True,  True]])"
      ]
     },
     "execution_count": 205,
     "metadata": {},
     "output_type": "execute_result"
    }
   ],
   "source": [
    "A>30"
   ]
  },
  {
   "cell_type": "code",
   "execution_count": 206,
   "id": "ab224cca-a306-4869-bead-1e726d2cdfaf",
   "metadata": {},
   "outputs": [
    {
     "data": {
      "text/plain": [
       "array([96, 67, 56, 49, 66, 80, 89, 56])"
      ]
     },
     "execution_count": 206,
     "metadata": {},
     "output_type": "execute_result"
    }
   ],
   "source": [
    "A[A>30]"
   ]
  },
  {
   "cell_type": "code",
   "execution_count": 207,
   "id": "fba0ea83-cdbd-498c-ad6d-834947802b27",
   "metadata": {},
   "outputs": [
    {
     "data": {
      "text/plain": [
       "array([[96, 67, 56],\n",
       "       [28, 49, 66],\n",
       "       [80, 89, 56]])"
      ]
     },
     "execution_count": 207,
     "metadata": {},
     "output_type": "execute_result"
    }
   ],
   "source": [
    "A"
   ]
  },
  {
   "cell_type": "code",
   "execution_count": 208,
   "id": "c18d1520-787a-48a6-8c0a-118cec39b1c0",
   "metadata": {},
   "outputs": [
    {
     "data": {
      "text/plain": [
       "array([[[ 12,   3,   4,   5],\n",
       "        [345,   5,  42,   2]],\n",
       "\n",
       "       [[ 67,  12,  87,  86],\n",
       "        [234, 768,  98, 546]]])"
      ]
     },
     "execution_count": 208,
     "metadata": {},
     "output_type": "execute_result"
    }
   ],
   "source": [
    "B"
   ]
  },
  {
   "cell_type": "code",
   "execution_count": 209,
   "id": "4d730f1f-61ac-4ddf-8a9f-787522a9c0a4",
   "metadata": {},
   "outputs": [],
   "source": [
    "A = np.array([[1,2,3],\n",
    "              [4,5,6]])"
   ]
  },
  {
   "cell_type": "code",
   "execution_count": 210,
   "id": "21f5fbe5-04d7-4b70-beb9-ce949af0d223",
   "metadata": {},
   "outputs": [],
   "source": [
    "B = np.array([[10,20,30],[40,50,60]])"
   ]
  },
  {
   "cell_type": "code",
   "execution_count": 211,
   "id": "ec9e3060-2b1b-414b-b276-8d09482abaec",
   "metadata": {},
   "outputs": [
    {
     "ename": "ValueError",
     "evalue": "shapes (2,3) and (2,3) not aligned: 3 (dim 1) != 2 (dim 0)",
     "output_type": "error",
     "traceback": [
      "\u001b[1;31m---------------------------------------------------------------------------\u001b[0m",
      "\u001b[1;31mValueError\u001b[0m                                Traceback (most recent call last)",
      "Cell \u001b[1;32mIn[211], line 1\u001b[0m\n\u001b[1;32m----> 1\u001b[0m A\u001b[38;5;241m.\u001b[39mdot(B)\n",
      "\u001b[1;31mValueError\u001b[0m: shapes (2,3) and (2,3) not aligned: 3 (dim 1) != 2 (dim 0)"
     ]
    }
   ],
   "source": [
    "A.dot(B)"
   ]
  },
  {
   "cell_type": "code",
   "execution_count": null,
   "id": "46cc8152-7575-46c8-b950-9ab253ab0cda",
   "metadata": {},
   "outputs": [],
   "source": [
    "A = np.array([\n",
    "    [1,2,3]\n",
    "])"
   ]
  },
  {
   "cell_type": "code",
   "execution_count": null,
   "id": "66c36f88-f575-41fb-b462-15a9fe328517",
   "metadata": {},
   "outputs": [],
   "source": [
    "B = np.array([4,5])"
   ]
  },
  {
   "cell_type": "code",
   "execution_count": null,
   "id": "d62a5be3-d638-44e9-b5f4-4fc3f3cdb07a",
   "metadata": {},
   "outputs": [],
   "source": [
    "A.dot(B)"
   ]
  },
  {
   "cell_type": "code",
   "execution_count": null,
   "id": "c1a3557b-af7f-4c99-b63c-d4368087e8eb",
   "metadata": {},
   "outputs": [],
   "source": [
    "A = np.array([\n",
    "    [1,2,3]\n",
    "])"
   ]
  },
  {
   "cell_type": "code",
   "execution_count": null,
   "id": "72a8a931-2a6a-48e4-b48c-220275a04125",
   "metadata": {},
   "outputs": [],
   "source": [
    "B = np.array([\n",
    "    [10],\n",
    "    [30],\n",
    "    [50]\n",
    "])"
   ]
  },
  {
   "cell_type": "code",
   "execution_count": null,
   "id": "9eb6fd1b-0485-46f4-9784-111c75d928f0",
   "metadata": {},
   "outputs": [],
   "source": [
    "A.dot(B)"
   ]
  },
  {
   "cell_type": "code",
   "execution_count": null,
   "id": "4de016c1-47e0-43a5-a1eb-f858b94fbda1",
   "metadata": {},
   "outputs": [],
   "source": [
    "A @ B"
   ]
  },
  {
   "cell_type": "code",
   "execution_count": null,
   "id": "1ceeaba2-dd49-4964-b2d9-b00b41250870",
   "metadata": {},
   "outputs": [],
   "source": [
    "B.T"
   ]
  },
  {
   "cell_type": "code",
   "execution_count": null,
   "id": "db394cee-7345-4c1e-92b8-59ac10e525b1",
   "metadata": {},
   "outputs": [],
   "source": [
    "A"
   ]
  },
  {
   "cell_type": "code",
   "execution_count": null,
   "id": "b076c880-7035-49d8-b17e-be53af3908a9",
   "metadata": {},
   "outputs": [],
   "source": [
    "B.T @ A"
   ]
  },
  {
   "cell_type": "code",
   "execution_count": null,
   "id": "3a7dcdde-145c-49b4-8330-4e46cc4eb5a4",
   "metadata": {},
   "outputs": [],
   "source": [
    "sys.getsizeof(1)"
   ]
  },
  {
   "cell_type": "code",
   "execution_count": null,
   "id": "b555392f-a904-43c4-9e1d-81c971a8f3c0",
   "metadata": {},
   "outputs": [],
   "source": [
    "sys.getsizeof(10*100)"
   ]
  },
  {
   "cell_type": "code",
   "execution_count": null,
   "id": "f21611b7-ae6a-4159-bd68-d76435cc6c7e",
   "metadata": {},
   "outputs": [],
   "source": [
    "np.dtype(int).itemsize"
   ]
  },
  {
   "cell_type": "code",
   "execution_count": null,
   "id": "5d74d458-45c7-4ff6-9a9e-493170e07d42",
   "metadata": {},
   "outputs": [],
   "source": [
    "np.dtype(np.int8).itemsize"
   ]
  },
  {
   "cell_type": "code",
   "execution_count": null,
   "id": "c8b690a5-ca74-439b-b0c2-5b483462a561",
   "metadata": {},
   "outputs": [],
   "source": [
    "np.dtype(float).itemsize"
   ]
  },
  {
   "cell_type": "code",
   "execution_count": null,
   "id": "2a804ed7-d402-4329-8d39-f7b62fa22700",
   "metadata": {},
   "outputs": [],
   "source": [
    "sys.getsizeof([1,2,3,4])"
   ]
  },
  {
   "cell_type": "code",
   "execution_count": null,
   "id": "676d73d2-708e-4325-a1a4-e5cc72ee5e8e",
   "metadata": {},
   "outputs": [],
   "source": [
    "np.array([1,2,3,4]).nbytes"
   ]
  },
  {
   "cell_type": "code",
   "execution_count": null,
   "id": "ba1d9b00-33a8-476e-898a-38b91a2fea00",
   "metadata": {},
   "outputs": [],
   "source": [
    "l = list(range(1000000))"
   ]
  },
  {
   "cell_type": "code",
   "execution_count": null,
   "id": "eb0d6b9a-852f-4abd-9f1c-e466cfd5b401",
   "metadata": {},
   "outputs": [],
   "source": [
    "import numpy as np\n",
    "a = np.arange(1000000)"
   ]
  },
  {
   "cell_type": "code",
   "execution_count": null,
   "id": "75fea05f-2b45-4b28-a56d-25c5bd3adaea",
   "metadata": {},
   "outputs": [],
   "source": [
    "%time np.sum(a**2)"
   ]
  },
  {
   "cell_type": "code",
   "execution_count": null,
   "id": "67c98d5d-bfe3-4db4-b236-e6c4076a1731",
   "metadata": {},
   "outputs": [],
   "source": [
    "%time sum([x**2 for x in l])"
   ]
  },
  {
   "cell_type": "code",
   "execution_count": null,
   "id": "bbeba939-6afb-44bf-a388-51aefa7b7936",
   "metadata": {},
   "outputs": [],
   "source": [
    "np.random.random(size = 2)"
   ]
  },
  {
   "cell_type": "code",
   "execution_count": null,
   "id": "63aa2f4c-b879-462d-8f53-02fdd249de36",
   "metadata": {},
   "outputs": [],
   "source": [
    "np.random.normal(size = 2)"
   ]
  },
  {
   "cell_type": "code",
   "execution_count": null,
   "id": "bead1a7c-bd64-483c-9fa1-d70cd3663355",
   "metadata": {},
   "outputs": [],
   "source": [
    "np.random.rand(2,4)"
   ]
  },
  {
   "cell_type": "code",
   "execution_count": null,
   "id": "828ccfd6-063a-4317-b759-9dd3edc5e93a",
   "metadata": {},
   "outputs": [],
   "source": [
    "np.arange(10)"
   ]
  },
  {
   "cell_type": "code",
   "execution_count": null,
   "id": "68bfc142-e903-4fc7-8081-b41fde45bd72",
   "metadata": {},
   "outputs": [],
   "source": [
    "np.arange(5,10)"
   ]
  },
  {
   "cell_type": "code",
   "execution_count": null,
   "id": "0967478d-7493-4e6f-b63c-bb130fc4924e",
   "metadata": {},
   "outputs": [],
   "source": [
    "np.arange(10,5)"
   ]
  },
  {
   "cell_type": "code",
   "execution_count": null,
   "id": "4397dfb7-108c-4437-ae95-3f4074f759d4",
   "metadata": {},
   "outputs": [],
   "source": [
    "np.arange(0,1,0.1)"
   ]
  },
  {
   "cell_type": "code",
   "execution_count": null,
   "id": "65279f90-8f39-4b45-897a-a80378cca2d4",
   "metadata": {},
   "outputs": [],
   "source": [
    "np.arange(10).reshape(2,5)"
   ]
  },
  {
   "cell_type": "code",
   "execution_count": null,
   "id": "8d23ef5a-4a52-4590-bf3a-d936610725fd",
   "metadata": {},
   "outputs": [],
   "source": [
    "np.arange(10).reshape(5,2)"
   ]
  },
  {
   "cell_type": "code",
   "execution_count": null,
   "id": "ea458b15-93e3-47d6-bb9d-85e28a5d649d",
   "metadata": {},
   "outputs": [],
   "source": [
    "np.linspace(0,1,5)"
   ]
  },
  {
   "cell_type": "code",
   "execution_count": null,
   "id": "43dfadd9-fbc4-4e97-9758-fd6528e2449c",
   "metadata": {},
   "outputs": [],
   "source": [
    "np.linspace(0,1,20)"
   ]
  },
  {
   "cell_type": "code",
   "execution_count": null,
   "id": "2944785f-8b5b-452c-9a0d-db4b018b890e",
   "metadata": {},
   "outputs": [],
   "source": [
    "np.linspace(0,1,20,False)"
   ]
  },
  {
   "cell_type": "code",
   "execution_count": null,
   "id": "81405269-0db5-42d8-bec1-3ea86ef4caf3",
   "metadata": {},
   "outputs": [],
   "source": [
    "np.linspace(0,1,20,True)"
   ]
  },
  {
   "cell_type": "code",
   "execution_count": null,
   "id": "97ac6828-f33a-4ea4-9101-713deb85e0f1",
   "metadata": {},
   "outputs": [],
   "source": [
    "np.zeros(5)"
   ]
  },
  {
   "cell_type": "code",
   "execution_count": null,
   "id": "d99b2fcd-22dc-47d9-8e19-b6f46f0f20e5",
   "metadata": {},
   "outputs": [],
   "source": [
    "np.zeros((3,3))"
   ]
  },
  {
   "cell_type": "code",
   "execution_count": null,
   "id": "506eca17-3714-4728-8d90-99b018df4f41",
   "metadata": {},
   "outputs": [],
   "source": [
    "np.zeros((3,3,3))"
   ]
  },
  {
   "cell_type": "code",
   "execution_count": null,
   "id": "eab087ec-a15c-4781-bead-9cb7f38332f7",
   "metadata": {},
   "outputs": [],
   "source": [
    "np.zeros((3,3), dtype = np.int8)"
   ]
  },
  {
   "cell_type": "code",
   "execution_count": null,
   "id": "b1ae40a3-ae2f-45e0-89bc-15fee37e9c7f",
   "metadata": {},
   "outputs": [],
   "source": [
    "np.ones(5)"
   ]
  },
  {
   "cell_type": "code",
   "execution_count": null,
   "id": "28b70e49-465f-4ecd-b05e-32c1ef2c3262",
   "metadata": {},
   "outputs": [],
   "source": [
    "np.ones((2,2))"
   ]
  },
  {
   "cell_type": "code",
   "execution_count": null,
   "id": "5ed619b8-39a9-4d80-b9aa-a6bf80e53d10",
   "metadata": {},
   "outputs": [],
   "source": [
    "np.empty(5)"
   ]
  },
  {
   "cell_type": "code",
   "execution_count": null,
   "id": "3f33d2a9-02c2-4269-ab61-018b177f348b",
   "metadata": {},
   "outputs": [],
   "source": [
    "np.empty((3,3))"
   ]
  },
  {
   "cell_type": "code",
   "execution_count": null,
   "id": "ce2953de-0090-40d1-88b9-f16b3e1d1222",
   "metadata": {},
   "outputs": [],
   "source": [
    "np.empty(5)"
   ]
  },
  {
   "cell_type": "code",
   "execution_count": null,
   "id": "f064e8a4-29e9-46a3-ab5b-78ba064bc004",
   "metadata": {},
   "outputs": [],
   "source": [
    "np.identity(3)"
   ]
  },
  {
   "cell_type": "code",
   "execution_count": null,
   "id": "8a3629fd-c6df-40d4-91d5-489bdaba264a",
   "metadata": {},
   "outputs": [],
   "source": [
    "np.identity(3,3)"
   ]
  },
  {
   "cell_type": "code",
   "execution_count": null,
   "id": "eb0add73-1c32-4466-82d9-2428f2c69be2",
   "metadata": {},
   "outputs": [],
   "source": [
    "np.eye(3,3)"
   ]
  },
  {
   "cell_type": "code",
   "execution_count": null,
   "id": "20439402-1bc0-4fe7-afb5-e909a5648b2e",
   "metadata": {},
   "outputs": [],
   "source": [
    "np.eye(8,4)"
   ]
  },
  {
   "cell_type": "code",
   "execution_count": null,
   "id": "26d9e414-611e-40ea-8621-6f649b78f62a",
   "metadata": {},
   "outputs": [],
   "source": [
    "np.identity(8)"
   ]
  },
  {
   "cell_type": "code",
   "execution_count": null,
   "id": "fec1ca46-b427-470c-af74-7590a2931d0a",
   "metadata": {},
   "outputs": [],
   "source": [
    "np.eye(8,4, k =1 )"
   ]
  },
  {
   "cell_type": "code",
   "execution_count": null,
   "id": "9e6344ba-8224-4151-b401-aa2e7cb2b017",
   "metadata": {},
   "outputs": [],
   "source": [
    "np.eye(8,4, k=-3)"
   ]
  },
  {
   "cell_type": "code",
   "execution_count": null,
   "id": "c84db1c7-084b-41c5-8522-433d57594518",
   "metadata": {},
   "outputs": [],
   "source": [
    "\"Hello World\"[6]"
   ]
  },
  {
   "cell_type": "code",
   "execution_count": null,
   "id": "5b87fab7-e91d-4c86-9d77-73f8cd86e56d",
   "metadata": {},
   "outputs": [],
   "source": []
  }
 ],
 "metadata": {
  "kernelspec": {
   "display_name": "Python 3 (ipykernel)",
   "language": "python",
   "name": "python3"
  },
  "language_info": {
   "codemirror_mode": {
    "name": "ipython",
    "version": 3
   },
   "file_extension": ".py",
   "mimetype": "text/x-python",
   "name": "python",
   "nbconvert_exporter": "python",
   "pygments_lexer": "ipython3",
   "version": "3.12.4"
  }
 },
 "nbformat": 4,
 "nbformat_minor": 5
}
